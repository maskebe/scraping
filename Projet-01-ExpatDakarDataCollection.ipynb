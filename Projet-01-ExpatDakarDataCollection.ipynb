{
 "cells": [
  {
   "cell_type": "markdown",
   "id": "27fa3112-2d4d-4013-96bf-8ea08ae9f59b",
   "metadata": {},
   "source": [
    "<h1 style=\"text-align:center;background-color:#DE9393;color:white;padding:20px;border-radius:10px\">Collecte de données web avec la bibliothèque BeautifulSoup : Cas du site Expat Dakar</h1>"
   ]
  },
  {
   "cell_type": "code",
   "execution_count": 72,
   "id": "c87ca9e2-a0d9-4d76-8f35-4b81d0a38e37",
   "metadata": {},
   "outputs": [],
   "source": [
    "import requests\n",
    "import matplotlib.pyplot as plt\n",
    "\n",
    "from bs4 import BeautifulSoup"
   ]
  },
  {
   "cell_type": "code",
   "execution_count": 2,
   "id": "71272006-93f8-449c-9bbb-409ad2a2b8ca",
   "metadata": {},
   "outputs": [],
   "source": [
    "expatDakar = requests.get(\"https://www.expat-dakar.com/telephones\")"
   ]
  },
  {
   "cell_type": "code",
   "execution_count": 3,
   "id": "99f752ad-304c-411a-ad46-bb0dbd4ceeee",
   "metadata": {},
   "outputs": [
    {
     "data": {
      "text/plain": [
       "200"
      ]
     },
     "execution_count": 3,
     "metadata": {},
     "output_type": "execute_result"
    }
   ],
   "source": [
    "expatDakar.status_code"
   ]
  },
  {
   "cell_type": "code",
   "execution_count": 4,
   "id": "5806b6ae-0b10-49f2-afc3-27758f67f2d3",
   "metadata": {},
   "outputs": [],
   "source": [
    "expatDakarSoup = BeautifulSoup(expatDakar.text)"
   ]
  },
  {
   "cell_type": "code",
   "execution_count": 5,
   "id": "6ae485f7-acf0-445b-90fe-506a040e3451",
   "metadata": {},
   "outputs": [],
   "source": [
    "portables = expatDakarSoup.find_all(\"div\", class_=\"listing-card__content\")"
   ]
  },
  {
   "cell_type": "code",
   "execution_count": 6,
   "id": "81ae9f6f-f756-4e18-9b45-1188023f4e49",
   "metadata": {},
   "outputs": [
    {
     "name": "stdout",
     "output_type": "stream",
     "text": [
      "Nombre de portables trouvés : 12\n"
     ]
    }
   ],
   "source": [
    "print(\"Nombre de portables trouvés : {}\".format(len(portables)))"
   ]
  },
  {
   "cell_type": "code",
   "execution_count": 7,
   "id": "a5ef69c6-acca-4e40-a2c8-af6ebd688f2f",
   "metadata": {},
   "outputs": [
    {
     "data": {
      "text/plain": [
       "'Xr 64 giga'"
      ]
     },
     "execution_count": 7,
     "metadata": {},
     "output_type": "execute_result"
    }
   ],
   "source": [
    "# Description du téléphone portable\n",
    "portables[2].find(\"div\", class_=\"listing-card__header__title\").text.strip()"
   ]
  },
  {
   "cell_type": "code",
   "execution_count": 8,
   "id": "1001f835-29d1-4886-8316-14dd89d32388",
   "metadata": {},
   "outputs": [
    {
     "data": {
      "text/plain": [
       "\"D'occasion\""
      ]
     },
     "execution_count": 8,
     "metadata": {},
     "output_type": "execute_result"
    }
   ],
   "source": [
    "# Etat du téléphone portable : neuf, occasion ou venant\n",
    "portables[2].find(\"span\", class_=\"listing-card__header__tags__item listing-card__header__tags__item--condition listing-card__header__tags__item--condition_used\").text.strip()"
   ]
  },
  {
   "cell_type": "code",
   "execution_count": 9,
   "id": "1fb3f577-27c4-4bb1-b2b1-bcd68f9875bd",
   "metadata": {},
   "outputs": [
    {
     "data": {
      "text/plain": [
       "'iPhone'"
      ]
     },
     "execution_count": 9,
     "metadata": {},
     "output_type": "execute_result"
    }
   ],
   "source": [
    "# Marque du téléphone portable : Iphone, Samsung, Tecno, Huawei, etc.\n",
    "portables[2].find(\"span\", class_=\"listing-card__header__tags__item listing-card__header__tags__item--make listing-card__header__tags__item--make_iphone\").text.strip()"
   ]
  },
  {
   "cell_type": "code",
   "execution_count": 10,
   "id": "4233c3a5-435f-4a8f-97c4-aa1aa1995dd5",
   "metadata": {},
   "outputs": [
    {
     "data": {
      "text/plain": [
       "'Hann maristes,\\nDakar'"
      ]
     },
     "execution_count": 10,
     "metadata": {},
     "output_type": "execute_result"
    }
   ],
   "source": [
    "# Lieu de vente\n",
    "portables[2].find(\"div\", class_=\"listing-card__header__location\").text.strip()"
   ]
  },
  {
   "cell_type": "code",
   "execution_count": 11,
   "id": "68e5e963-9aac-48a9-98e1-3aaba5e701d7",
   "metadata": {},
   "outputs": [
    {
     "data": {
      "text/plain": [
       "'185000 F Cfa'"
      ]
     },
     "execution_count": 11,
     "metadata": {},
     "output_type": "execute_result"
    }
   ],
   "source": [
    "# Prix du téléphone portable\n",
    "portables[2].find(\"div\", class_=\"listing-card__info-bar__price\").text.replace(\"\\u202f\", \"\").strip()"
   ]
  },
  {
   "cell_type": "code",
   "execution_count": 12,
   "id": "4096b138-20a2-4e3f-a626-743934c8cdd8",
   "metadata": {},
   "outputs": [],
   "source": [
    "infos = []\n",
    "\n",
    "for portable in portables:\n",
    "    try:\n",
    "        description = portable.find(\"div\", class_=\"listing-card__header__title\").text.strip()\n",
    "    except:\n",
    "        description = None\n",
    "    try:\n",
    "        etat_telephone = portable.find(\"span\", class_=\"listing-card__header__tags__item listing-card__header__tags__item--condition listing-card__header__tags__item--condition_used\").text.strip()\n",
    "    except:\n",
    "        etat_telephone = None\n",
    "    try:\n",
    "        marque = portable.find(\"span\", class_=\"listing-card__header__tags__item listing-card__header__tags__item--make listing-card__header__tags__item--make_iphone\").text.strip()\n",
    "    except:\n",
    "        marque = None\n",
    "    try:\n",
    "        lieu_de_vente = portable.find(\"div\", class_=\"listing-card__header__location\").text.strip()\n",
    "    except:\n",
    "        lieu_de_vente = None\n",
    "    try:\n",
    "        prix = portable.find(\"div\", class_=\"listing-card__info-bar__price\").text.replace(\"\\u202f\", \"\").strip()\n",
    "    except:\n",
    "        prix = None\n",
    "    \n",
    "    info = {\n",
    "        \"Description\":description,\n",
    "        \"Etat du téléphone\": etat_telephone,\n",
    "        \"Marque\":marque,\n",
    "        \"Lieu de vente\":lieu_de_vente,\n",
    "        \"Prix\":prix\n",
    "    }\n",
    "    \n",
    "    infos.append(info)"
   ]
  },
  {
   "cell_type": "code",
   "execution_count": 13,
   "id": "99b4fee4-2575-4717-8e34-a69826df5d1e",
   "metadata": {},
   "outputs": [],
   "source": [
    "import pandas as pd"
   ]
  },
  {
   "cell_type": "code",
   "execution_count": 14,
   "id": "0391eb4c-abe7-464f-960a-1aebbe60e2f6",
   "metadata": {},
   "outputs": [],
   "source": [
    "resultats = pd.DataFrame(infos)"
   ]
  },
  {
   "cell_type": "code",
   "execution_count": 15,
   "id": "9cddb0b9-dfed-471d-964f-8dd28b998e69",
   "metadata": {},
   "outputs": [
    {
     "data": {
      "text/html": [
       "<div>\n",
       "<style scoped>\n",
       "    .dataframe tbody tr th:only-of-type {\n",
       "        vertical-align: middle;\n",
       "    }\n",
       "\n",
       "    .dataframe tbody tr th {\n",
       "        vertical-align: top;\n",
       "    }\n",
       "\n",
       "    .dataframe thead th {\n",
       "        text-align: right;\n",
       "    }\n",
       "</style>\n",
       "<table border=\"1\" class=\"dataframe\">\n",
       "  <thead>\n",
       "    <tr style=\"text-align: right;\">\n",
       "      <th></th>\n",
       "      <th>Description</th>\n",
       "      <th>Etat du téléphone</th>\n",
       "      <th>Marque</th>\n",
       "      <th>Lieu de vente</th>\n",
       "      <th>Prix</th>\n",
       "    </tr>\n",
       "  </thead>\n",
       "  <tbody>\n",
       "    <tr>\n",
       "      <th>0</th>\n",
       "      <td>HUAWEI P10 Lite</td>\n",
       "      <td>None</td>\n",
       "      <td>None</td>\n",
       "      <td>Colobane,\\nDakar</td>\n",
       "      <td>55000 F Cfa</td>\n",
       "    </tr>\n",
       "    <tr>\n",
       "      <th>1</th>\n",
       "      <td>Crosscall Core-M5</td>\n",
       "      <td>None</td>\n",
       "      <td>None</td>\n",
       "      <td>Gueule-Tapée,\\nDakar</td>\n",
       "      <td>280000 F Cfa</td>\n",
       "    </tr>\n",
       "    <tr>\n",
       "      <th>2</th>\n",
       "      <td>Xr 64 giga</td>\n",
       "      <td>D'occasion</td>\n",
       "      <td>iPhone</td>\n",
       "      <td>Hann maristes,\\nDakar</td>\n",
       "      <td>185000 F Cfa</td>\n",
       "    </tr>\n",
       "    <tr>\n",
       "      <th>3</th>\n",
       "      <td>iPhone X 256</td>\n",
       "      <td>None</td>\n",
       "      <td>iPhone</td>\n",
       "      <td>Hann maristes,\\nDakar</td>\n",
       "      <td>190000 F Cfa</td>\n",
       "    </tr>\n",
       "    <tr>\n",
       "      <th>4</th>\n",
       "      <td>iPhone 12 Pro 256 giga</td>\n",
       "      <td>D'occasion</td>\n",
       "      <td>iPhone</td>\n",
       "      <td>Hann maristes,\\nDakar</td>\n",
       "      <td>480000 F Cfa</td>\n",
       "    </tr>\n",
       "    <tr>\n",
       "      <th>5</th>\n",
       "      <td>iPhone XS Max 256</td>\n",
       "      <td>D'occasion</td>\n",
       "      <td>iPhone</td>\n",
       "      <td>Sicap baobab,\\nDakar</td>\n",
       "      <td>270000 F Cfa</td>\n",
       "    </tr>\n",
       "    <tr>\n",
       "      <th>6</th>\n",
       "      <td>Tecno Spark 7 Pro</td>\n",
       "      <td>None</td>\n",
       "      <td>None</td>\n",
       "      <td>Dalifort,\\nDakar</td>\n",
       "      <td>87000 F Cfa</td>\n",
       "    </tr>\n",
       "    <tr>\n",
       "      <th>7</th>\n",
       "      <td>SAMSUNG J3 VENANT DE FRANCE</td>\n",
       "      <td>None</td>\n",
       "      <td>None</td>\n",
       "      <td>Yoff,\\nDakar</td>\n",
       "      <td>35000 F Cfa</td>\n",
       "    </tr>\n",
       "    <tr>\n",
       "      <th>8</th>\n",
       "      <td>Samsung serie A</td>\n",
       "      <td>None</td>\n",
       "      <td>None</td>\n",
       "      <td>Plateau,\\nDakar</td>\n",
       "      <td>1 F Cfa</td>\n",
       "    </tr>\n",
       "    <tr>\n",
       "      <th>9</th>\n",
       "      <td>Camon 17 pro 256/6gb</td>\n",
       "      <td>None</td>\n",
       "      <td>None</td>\n",
       "      <td>Plateau,\\nDakar</td>\n",
       "      <td>150000 F Cfa</td>\n",
       "    </tr>\n",
       "    <tr>\n",
       "      <th>10</th>\n",
       "      <td>iPhone 11/pro</td>\n",
       "      <td>None</td>\n",
       "      <td>iPhone</td>\n",
       "      <td>Plateau,\\nDakar</td>\n",
       "      <td>330000 F Cfa</td>\n",
       "    </tr>\n",
       "    <tr>\n",
       "      <th>11</th>\n",
       "      <td>iPhone 11pro</td>\n",
       "      <td>None</td>\n",
       "      <td>iPhone</td>\n",
       "      <td>Plateau,\\nDakar</td>\n",
       "      <td>310000 F Cfa\\n\\n310000 F Cfa\\n\\nÉconomisez 0%</td>\n",
       "    </tr>\n",
       "  </tbody>\n",
       "</table>\n",
       "</div>"
      ],
      "text/plain": [
       "                    Description Etat du téléphone  Marque  \\\n",
       "0               HUAWEI P10 Lite              None    None   \n",
       "1             Crosscall Core-M5              None    None   \n",
       "2                    Xr 64 giga        D'occasion  iPhone   \n",
       "3                  iPhone X 256              None  iPhone   \n",
       "4        iPhone 12 Pro 256 giga        D'occasion  iPhone   \n",
       "5             iPhone XS Max 256        D'occasion  iPhone   \n",
       "6             Tecno Spark 7 Pro              None    None   \n",
       "7   SAMSUNG J3 VENANT DE FRANCE              None    None   \n",
       "8               Samsung serie A              None    None   \n",
       "9          Camon 17 pro 256/6gb              None    None   \n",
       "10                iPhone 11/pro              None  iPhone   \n",
       "11                 iPhone 11pro              None  iPhone   \n",
       "\n",
       "            Lieu de vente                                           Prix  \n",
       "0        Colobane,\\nDakar                                    55000 F Cfa  \n",
       "1    Gueule-Tapée,\\nDakar                                   280000 F Cfa  \n",
       "2   Hann maristes,\\nDakar                                   185000 F Cfa  \n",
       "3   Hann maristes,\\nDakar                                   190000 F Cfa  \n",
       "4   Hann maristes,\\nDakar                                   480000 F Cfa  \n",
       "5    Sicap baobab,\\nDakar                                   270000 F Cfa  \n",
       "6        Dalifort,\\nDakar                                    87000 F Cfa  \n",
       "7            Yoff,\\nDakar                                    35000 F Cfa  \n",
       "8         Plateau,\\nDakar                                        1 F Cfa  \n",
       "9         Plateau,\\nDakar                                   150000 F Cfa  \n",
       "10        Plateau,\\nDakar                                   330000 F Cfa  \n",
       "11        Plateau,\\nDakar  310000 F Cfa\\n\\n310000 F Cfa\\n\\nÉconomisez 0%  "
      ]
     },
     "execution_count": 15,
     "metadata": {},
     "output_type": "execute_result"
    }
   ],
   "source": [
    "resultats"
   ]
  },
  {
   "cell_type": "code",
   "execution_count": 18,
   "id": "70c411f6-3669-4915-80d2-6e62f6c9ff2a",
   "metadata": {},
   "outputs": [
    {
     "data": {
      "text/plain": [
       "D'occasion    3\n",
       "Name: Etat du téléphone, dtype: int64"
      ]
     },
     "execution_count": 18,
     "metadata": {},
     "output_type": "execute_result"
    }
   ],
   "source": [
    "resultats[\"Etat du téléphone\"].value_counts()"
   ]
  },
  {
   "cell_type": "code",
   "execution_count": 19,
   "id": "78c95b70-47ab-447a-92e8-f2ee0f5e3285",
   "metadata": {},
   "outputs": [
    {
     "data": {
      "text/plain": [
       "iPhone    6\n",
       "Name: Marque, dtype: int64"
      ]
     },
     "execution_count": 19,
     "metadata": {},
     "output_type": "execute_result"
    }
   ],
   "source": [
    "resultats[\"Marque\"].value_counts()"
   ]
  },
  {
   "cell_type": "markdown",
   "id": "db7d7d54-b1aa-4601-81cc-7587596fe5cd",
   "metadata": {},
   "source": [
    "## Extraction des informations relatives aux classes présentant une certaine spécificité par rapport à la marque"
   ]
  },
  {
   "cell_type": "markdown",
   "id": "bae3175d-210a-436c-b001-6d778431c23d",
   "metadata": {},
   "source": [
    "### Première méthode d'extraction de la marque"
   ]
  },
  {
   "cell_type": "code",
   "execution_count": 38,
   "id": "6f426d5d-d1bc-4275-b009-2d9a9b405fb8",
   "metadata": {},
   "outputs": [],
   "source": [
    "portables[1].find(\"div\", class_=\"listing-card__header__tags\").find_all(\"span\")\n",
    "etatTelephone = portables[1].find(\"div\", class_=\"listing-card__header__tags\").find_all(\"span\")[0].text\n",
    "marque = portables[1].find(\"div\", class_=\"listing-card__header__tags\").find_all(\"span\")[1].text"
   ]
  },
  {
   "cell_type": "markdown",
   "id": "cce5c4f0-ba9f-437b-9dd6-827a82d84505",
   "metadata": {},
   "source": [
    "### Deuxième méthode d'extraction de la marque"
   ]
  },
  {
   "cell_type": "code",
   "execution_count": 42,
   "id": "6f281b74-2235-4837-a104-595f5ed82fdb",
   "metadata": {},
   "outputs": [
    {
     "data": {
      "text/plain": [
       "'iphone'"
      ]
     },
     "execution_count": 42,
     "metadata": {},
     "output_type": "execute_result"
    }
   ],
   "source": [
    "marqueTelephone = portables[2].find(\"div\", class_=\"listing-card__header__tags\").find_all(\"span\")[1]\n",
    "marqueTelephone.attrs[\"class\"][-1].split(\"_\")[-1]"
   ]
  },
  {
   "cell_type": "code",
   "execution_count": 33,
   "id": "e42d8c3a-ef95-43fe-8cf1-9f9e8eaaa5f3",
   "metadata": {},
   "outputs": [
    {
     "name": "stdout",
     "output_type": "stream",
     "text": [
      "huawei\n",
      "crosscall\n",
      "iphone\n",
      "iphone\n",
      "iphone\n",
      "iphone\n",
      "tecno\n",
      "samsung\n",
      "samsung\n",
      "tecno\n",
      "iphone\n",
      "iphone\n"
     ]
    }
   ],
   "source": [
    "for portable in portables:\n",
    "    marque = portable.find(\"div\", class_=\"listing-card__header__tags\").find_all(\"span\")[1].attrs[\"class\"][2].split(\"_\")[-1]\n",
    "    print(marque)"
   ]
  },
  {
   "cell_type": "markdown",
   "id": "9c5fc097-3738-42a1-b608-4caf46501a59",
   "metadata": {},
   "source": [
    "## Extraction des informations relatives à l'état des téléphones portables"
   ]
  },
  {
   "cell_type": "code",
   "execution_count": 34,
   "id": "94bf6505-9b57-4517-a0c4-d89d35784b2d",
   "metadata": {},
   "outputs": [
    {
     "name": "stdout",
     "output_type": "stream",
     "text": [
      "Venant\n",
      "Neuf\n",
      "D'occasion\n",
      "Neuf\n",
      "D'occasion\n",
      "D'occasion\n",
      "Neuf\n",
      "Venant\n",
      "Neuf\n",
      "Neuf\n",
      "Neuf\n",
      "Venant\n"
     ]
    }
   ],
   "source": [
    "for portable in portables:\n",
    "    etatTelephone = portable.find(\"div\", class_=\"listing-card__header__tags\").find_all(\"span\")[0].text\n",
    "    print(etatTelephone)"
   ]
  },
  {
   "cell_type": "code",
   "execution_count": 47,
   "id": "0e853181-fbd3-4e86-bdac-5ec63638107b",
   "metadata": {},
   "outputs": [],
   "source": [
    "infosAmeliorees = []\n",
    "\n",
    "for portable in portables:\n",
    "    try:\n",
    "        description = portable.find(\"div\", class_=\"listing-card__header__title\").text.strip()\n",
    "    except:\n",
    "        description = None\n",
    "    try:\n",
    "        # Amélioration à partir de la première méthode\n",
    "        etat_telephone = portable.find(\"div\", class_=\"listing-card__header__tags\").find_all(\"span\")[0].text\n",
    "    except:\n",
    "        etat_telephone = None\n",
    "    try:\n",
    "        # Amélioration à partir de la première éthode\n",
    "        marque = portable.find(\"div\", class_=\"listing-card__header__tags\").find_all(\"span\")[1].text\n",
    "    except:\n",
    "        marque = None\n",
    "    try:\n",
    "        lieu_de_vente = portable.find(\"div\", class_=\"listing-card__header__location\").text.strip()\n",
    "    except:\n",
    "        lieu_de_vente = None\n",
    "    try:\n",
    "        prix = portable.find(\"div\", class_=\"listing-card__info-bar__price\").text.replace(\"\\u202f\", \"\").strip()\n",
    "    except:\n",
    "        prix = None\n",
    "    \n",
    "    info = {\n",
    "        \"Description\":description,\n",
    "        \"Etat du téléphone\": etat_telephone,\n",
    "        \"Marque\":marque,\n",
    "        \"Lieu de vente\":lieu_de_vente,\n",
    "        \"Prix\":prix\n",
    "    }\n",
    "    \n",
    "    infosAmeliorees.append(info)"
   ]
  },
  {
   "cell_type": "code",
   "execution_count": 48,
   "id": "e6589193-652f-44ce-a2f9-72b96dda6364",
   "metadata": {},
   "outputs": [
    {
     "data": {
      "text/html": [
       "<div>\n",
       "<style scoped>\n",
       "    .dataframe tbody tr th:only-of-type {\n",
       "        vertical-align: middle;\n",
       "    }\n",
       "\n",
       "    .dataframe tbody tr th {\n",
       "        vertical-align: top;\n",
       "    }\n",
       "\n",
       "    .dataframe thead th {\n",
       "        text-align: right;\n",
       "    }\n",
       "</style>\n",
       "<table border=\"1\" class=\"dataframe\">\n",
       "  <thead>\n",
       "    <tr style=\"text-align: right;\">\n",
       "      <th></th>\n",
       "      <th>Description</th>\n",
       "      <th>Etat du téléphone</th>\n",
       "      <th>Marque</th>\n",
       "      <th>Lieu de vente</th>\n",
       "      <th>Prix</th>\n",
       "    </tr>\n",
       "  </thead>\n",
       "  <tbody>\n",
       "    <tr>\n",
       "      <th>0</th>\n",
       "      <td>HUAWEI P10 Lite</td>\n",
       "      <td>Venant</td>\n",
       "      <td>Huawei</td>\n",
       "      <td>Colobane,\\nDakar</td>\n",
       "      <td>55000 F Cfa</td>\n",
       "    </tr>\n",
       "    <tr>\n",
       "      <th>1</th>\n",
       "      <td>Crosscall Core-M5</td>\n",
       "      <td>Neuf</td>\n",
       "      <td>Crosscall</td>\n",
       "      <td>Gueule-Tapée,\\nDakar</td>\n",
       "      <td>280000 F Cfa</td>\n",
       "    </tr>\n",
       "    <tr>\n",
       "      <th>2</th>\n",
       "      <td>Xr 64 giga</td>\n",
       "      <td>D'occasion</td>\n",
       "      <td>iPhone</td>\n",
       "      <td>Hann maristes,\\nDakar</td>\n",
       "      <td>185000 F Cfa</td>\n",
       "    </tr>\n",
       "    <tr>\n",
       "      <th>3</th>\n",
       "      <td>iPhone X 256</td>\n",
       "      <td>Neuf</td>\n",
       "      <td>iPhone</td>\n",
       "      <td>Hann maristes,\\nDakar</td>\n",
       "      <td>190000 F Cfa</td>\n",
       "    </tr>\n",
       "    <tr>\n",
       "      <th>4</th>\n",
       "      <td>iPhone 12 Pro 256 giga</td>\n",
       "      <td>D'occasion</td>\n",
       "      <td>iPhone</td>\n",
       "      <td>Hann maristes,\\nDakar</td>\n",
       "      <td>480000 F Cfa</td>\n",
       "    </tr>\n",
       "    <tr>\n",
       "      <th>5</th>\n",
       "      <td>iPhone XS Max 256</td>\n",
       "      <td>D'occasion</td>\n",
       "      <td>iPhone</td>\n",
       "      <td>Sicap baobab,\\nDakar</td>\n",
       "      <td>270000 F Cfa</td>\n",
       "    </tr>\n",
       "    <tr>\n",
       "      <th>6</th>\n",
       "      <td>Tecno Spark 7 Pro</td>\n",
       "      <td>Neuf</td>\n",
       "      <td>Tecno</td>\n",
       "      <td>Dalifort,\\nDakar</td>\n",
       "      <td>87000 F Cfa</td>\n",
       "    </tr>\n",
       "    <tr>\n",
       "      <th>7</th>\n",
       "      <td>SAMSUNG J3 VENANT DE FRANCE</td>\n",
       "      <td>Venant</td>\n",
       "      <td>Samsung</td>\n",
       "      <td>Yoff,\\nDakar</td>\n",
       "      <td>35000 F Cfa</td>\n",
       "    </tr>\n",
       "    <tr>\n",
       "      <th>8</th>\n",
       "      <td>Samsung serie A</td>\n",
       "      <td>Neuf</td>\n",
       "      <td>Samsung</td>\n",
       "      <td>Plateau,\\nDakar</td>\n",
       "      <td>1 F Cfa</td>\n",
       "    </tr>\n",
       "    <tr>\n",
       "      <th>9</th>\n",
       "      <td>Camon 17 pro 256/6gb</td>\n",
       "      <td>Neuf</td>\n",
       "      <td>Tecno</td>\n",
       "      <td>Plateau,\\nDakar</td>\n",
       "      <td>150000 F Cfa</td>\n",
       "    </tr>\n",
       "    <tr>\n",
       "      <th>10</th>\n",
       "      <td>iPhone 11/pro</td>\n",
       "      <td>Neuf</td>\n",
       "      <td>iPhone</td>\n",
       "      <td>Plateau,\\nDakar</td>\n",
       "      <td>330000 F Cfa</td>\n",
       "    </tr>\n",
       "    <tr>\n",
       "      <th>11</th>\n",
       "      <td>iPhone 11pro</td>\n",
       "      <td>Venant</td>\n",
       "      <td>iPhone</td>\n",
       "      <td>Plateau,\\nDakar</td>\n",
       "      <td>310000 F Cfa\\n\\n310000 F Cfa\\n\\nÉconomisez 0%</td>\n",
       "    </tr>\n",
       "  </tbody>\n",
       "</table>\n",
       "</div>"
      ],
      "text/plain": [
       "                    Description Etat du téléphone     Marque  \\\n",
       "0               HUAWEI P10 Lite            Venant     Huawei   \n",
       "1             Crosscall Core-M5              Neuf  Crosscall   \n",
       "2                    Xr 64 giga        D'occasion     iPhone   \n",
       "3                  iPhone X 256              Neuf     iPhone   \n",
       "4        iPhone 12 Pro 256 giga        D'occasion     iPhone   \n",
       "5             iPhone XS Max 256        D'occasion     iPhone   \n",
       "6             Tecno Spark 7 Pro              Neuf      Tecno   \n",
       "7   SAMSUNG J3 VENANT DE FRANCE            Venant    Samsung   \n",
       "8               Samsung serie A              Neuf    Samsung   \n",
       "9          Camon 17 pro 256/6gb              Neuf      Tecno   \n",
       "10                iPhone 11/pro              Neuf     iPhone   \n",
       "11                 iPhone 11pro            Venant     iPhone   \n",
       "\n",
       "            Lieu de vente                                           Prix  \n",
       "0        Colobane,\\nDakar                                    55000 F Cfa  \n",
       "1    Gueule-Tapée,\\nDakar                                   280000 F Cfa  \n",
       "2   Hann maristes,\\nDakar                                   185000 F Cfa  \n",
       "3   Hann maristes,\\nDakar                                   190000 F Cfa  \n",
       "4   Hann maristes,\\nDakar                                   480000 F Cfa  \n",
       "5    Sicap baobab,\\nDakar                                   270000 F Cfa  \n",
       "6        Dalifort,\\nDakar                                    87000 F Cfa  \n",
       "7            Yoff,\\nDakar                                    35000 F Cfa  \n",
       "8         Plateau,\\nDakar                                        1 F Cfa  \n",
       "9         Plateau,\\nDakar                                   150000 F Cfa  \n",
       "10        Plateau,\\nDakar                                   330000 F Cfa  \n",
       "11        Plateau,\\nDakar  310000 F Cfa\\n\\n310000 F Cfa\\n\\nÉconomisez 0%  "
      ]
     },
     "execution_count": 48,
     "metadata": {},
     "output_type": "execute_result"
    }
   ],
   "source": [
    "pd.DataFrame(infosAmeliorees)"
   ]
  },
  {
   "cell_type": "markdown",
   "id": "9328d845-f0d9-44e1-9316-54ef309c7697",
   "metadata": {},
   "source": [
    "## Généralisation de la méthode de collecte d'informations à l'ensemble des pages du site de Expact Dakar"
   ]
  },
  {
   "cell_type": "code",
   "execution_count": 61,
   "id": "173b2f42-ce63-472e-8909-13da3c14c6cb",
   "metadata": {},
   "outputs": [],
   "source": [
    "pages = []\n",
    "\n",
    "for i in range(100):\n",
    "    if (i+1) == 1:\n",
    "        page = requests.get(\"https://www.expat-dakar.com/telephones\")\n",
    "    else:\n",
    "        page = requests.get(\"https://www.expat-dakar.com/telephones?page={}\".format((i+1)))\n",
    "    pages.append(BeautifulSoup(page.text))"
   ]
  },
  {
   "cell_type": "code",
   "execution_count": 59,
   "id": "b4e75c6e-c73b-40d1-80c6-208d8b702d99",
   "metadata": {},
   "outputs": [],
   "source": [
    "#print(\"Il y a {} pages sur {} de code status 200\".format(sum([int(page.status_code == 200) for page in pages]), len(pages)))"
   ]
  },
  {
   "cell_type": "code",
   "execution_count": 62,
   "id": "2ff2a0f7-ab12-4526-aeb3-5ca737d82493",
   "metadata": {},
   "outputs": [],
   "source": [
    "infosGlobales = []\n",
    "\n",
    "for page in pages:\n",
    "    portables = page.find_all(\"div\", class_=\"listing-card__content\")\n",
    "    for portable in portables:\n",
    "        try:\n",
    "            description = portable.find(\"div\", class_=\"listing-card__header__title\").text.strip()\n",
    "        except:\n",
    "            description = None\n",
    "        try:\n",
    "            # Amélioration à partir de la première méthode\n",
    "            etat_telephone = portable.find(\"div\", class_=\"listing-card__header__tags\").find_all(\"span\")[0].text\n",
    "        except:\n",
    "            etat_telephone = None\n",
    "        try:\n",
    "            # Amélioration à partir de la première éthode\n",
    "            marque = portable.find(\"div\", class_=\"listing-card__header__tags\").find_all(\"span\")[1].text\n",
    "        except:\n",
    "            marque = None\n",
    "        try:\n",
    "            lieu_de_vente = portable.find(\"div\", class_=\"listing-card__header__location\").text.strip()\n",
    "        except:\n",
    "            lieu_de_vente = None\n",
    "        try:\n",
    "            prix = portable.find(\"div\", class_=\"listing-card__info-bar__price\").text.replace(\"\\u202f\", \"\").strip()\n",
    "        except:\n",
    "            prix = None\n",
    "\n",
    "        info = {\n",
    "            \"Description\":description,\n",
    "            \"Etat du téléphone\": etat_telephone,\n",
    "            \"Marque\":marque,\n",
    "            \"Lieu de vente\":lieu_de_vente,\n",
    "            \"Prix\":prix\n",
    "        }\n",
    "\n",
    "        infosGlobales.append(info)"
   ]
  },
  {
   "cell_type": "code",
   "execution_count": 68,
   "id": "38570a7f-c6cf-41c5-85d7-6b8580eb108e",
   "metadata": {},
   "outputs": [],
   "source": [
    "resultatGlobal = pd.DataFrame(infosGlobales)"
   ]
  },
  {
   "cell_type": "code",
   "execution_count": 69,
   "id": "462d333d-62d1-4934-860b-3590efa1c4ed",
   "metadata": {},
   "outputs": [
    {
     "data": {
      "text/html": [
       "<div>\n",
       "<style scoped>\n",
       "    .dataframe tbody tr th:only-of-type {\n",
       "        vertical-align: middle;\n",
       "    }\n",
       "\n",
       "    .dataframe tbody tr th {\n",
       "        vertical-align: top;\n",
       "    }\n",
       "\n",
       "    .dataframe thead th {\n",
       "        text-align: right;\n",
       "    }\n",
       "</style>\n",
       "<table border=\"1\" class=\"dataframe\">\n",
       "  <thead>\n",
       "    <tr style=\"text-align: right;\">\n",
       "      <th></th>\n",
       "      <th>Description</th>\n",
       "      <th>Etat du téléphone</th>\n",
       "      <th>Marque</th>\n",
       "      <th>Lieu de vente</th>\n",
       "      <th>Prix</th>\n",
       "    </tr>\n",
       "  </thead>\n",
       "  <tbody>\n",
       "    <tr>\n",
       "      <th>0</th>\n",
       "      <td>HUAWEI P10 Lite</td>\n",
       "      <td>Venant</td>\n",
       "      <td>Huawei</td>\n",
       "      <td>Colobane,\\nDakar</td>\n",
       "      <td>55000 F Cfa</td>\n",
       "    </tr>\n",
       "    <tr>\n",
       "      <th>1</th>\n",
       "      <td>Téléphone CROSSCALL Core S4</td>\n",
       "      <td>Neuf</td>\n",
       "      <td>Crosscall</td>\n",
       "      <td>Gueule-Tapée,\\nDakar</td>\n",
       "      <td>80000 F Cfa</td>\n",
       "    </tr>\n",
       "    <tr>\n",
       "      <th>2</th>\n",
       "      <td>Google pixel 2xl venant 128go ram 4go 4g lte A...</td>\n",
       "      <td>Neuf</td>\n",
       "      <td>Google</td>\n",
       "      <td>Plateau,\\nDakar</td>\n",
       "      <td>89900 F Cfa</td>\n",
       "    </tr>\n",
       "    <tr>\n",
       "      <th>3</th>\n",
       "      <td>Xr 64 giga</td>\n",
       "      <td>D'occasion</td>\n",
       "      <td>iPhone</td>\n",
       "      <td>Hann maristes,\\nDakar</td>\n",
       "      <td>185000 F Cfa</td>\n",
       "    </tr>\n",
       "    <tr>\n",
       "      <th>4</th>\n",
       "      <td>iPhone X 256</td>\n",
       "      <td>Neuf</td>\n",
       "      <td>iPhone</td>\n",
       "      <td>Hann maristes,\\nDakar</td>\n",
       "      <td>190000 F Cfa</td>\n",
       "    </tr>\n",
       "    <tr>\n",
       "      <th>...</th>\n",
       "      <td>...</td>\n",
       "      <td>...</td>\n",
       "      <td>...</td>\n",
       "      <td>...</td>\n",
       "      <td>...</td>\n",
       "    </tr>\n",
       "    <tr>\n",
       "      <th>1195</th>\n",
       "      <td>Samsung galaxy A72</td>\n",
       "      <td>D'occasion</td>\n",
       "      <td>Samsung</td>\n",
       "      <td>Plateau,\\nDakar</td>\n",
       "      <td>160000 F Cfa</td>\n",
       "    </tr>\n",
       "    <tr>\n",
       "      <th>1196</th>\n",
       "      <td>Téléphone</td>\n",
       "      <td>D'occasion</td>\n",
       "      <td>iPhone</td>\n",
       "      <td>Hlm grand-yoff,\\nDakar</td>\n",
       "      <td>350000 F Cfa</td>\n",
       "    </tr>\n",
       "    <tr>\n",
       "      <th>1197</th>\n",
       "      <td>IPhone 13 128 go</td>\n",
       "      <td>Neuf</td>\n",
       "      <td>iPhone</td>\n",
       "      <td>Sicap Liberté,\\nDakar</td>\n",
       "      <td>520000 F Cfa</td>\n",
       "    </tr>\n",
       "    <tr>\n",
       "      <th>1198</th>\n",
       "      <td>IPhone 7+ 128gb</td>\n",
       "      <td>D'occasion</td>\n",
       "      <td>iPhone</td>\n",
       "      <td>Parcelles Assainies,\\nDakar</td>\n",
       "      <td>110000 F Cfa</td>\n",
       "    </tr>\n",
       "    <tr>\n",
       "      <th>1199</th>\n",
       "      <td>Iphone6 128go</td>\n",
       "      <td>D'occasion</td>\n",
       "      <td>iPhone</td>\n",
       "      <td>Parcelles Assainies,\\nDakar</td>\n",
       "      <td>60000 F Cfa</td>\n",
       "    </tr>\n",
       "  </tbody>\n",
       "</table>\n",
       "<p>1200 rows × 5 columns</p>\n",
       "</div>"
      ],
      "text/plain": [
       "                                            Description Etat du téléphone  \\\n",
       "0                                       HUAWEI P10 Lite            Venant   \n",
       "1                           Téléphone CROSSCALL Core S4              Neuf   \n",
       "2     Google pixel 2xl venant 128go ram 4go 4g lte A...              Neuf   \n",
       "3                                            Xr 64 giga        D'occasion   \n",
       "4                                          iPhone X 256              Neuf   \n",
       "...                                                 ...               ...   \n",
       "1195                                 Samsung galaxy A72        D'occasion   \n",
       "1196                                          Téléphone        D'occasion   \n",
       "1197                                   IPhone 13 128 go              Neuf   \n",
       "1198                                    IPhone 7+ 128gb        D'occasion   \n",
       "1199                                      Iphone6 128go        D'occasion   \n",
       "\n",
       "         Marque                Lieu de vente          Prix  \n",
       "0        Huawei             Colobane,\\nDakar   55000 F Cfa  \n",
       "1     Crosscall         Gueule-Tapée,\\nDakar   80000 F Cfa  \n",
       "2        Google              Plateau,\\nDakar   89900 F Cfa  \n",
       "3        iPhone        Hann maristes,\\nDakar  185000 F Cfa  \n",
       "4        iPhone        Hann maristes,\\nDakar  190000 F Cfa  \n",
       "...         ...                          ...           ...  \n",
       "1195    Samsung              Plateau,\\nDakar  160000 F Cfa  \n",
       "1196     iPhone       Hlm grand-yoff,\\nDakar  350000 F Cfa  \n",
       "1197     iPhone        Sicap Liberté,\\nDakar  520000 F Cfa  \n",
       "1198     iPhone  Parcelles Assainies,\\nDakar  110000 F Cfa  \n",
       "1199     iPhone  Parcelles Assainies,\\nDakar   60000 F Cfa  \n",
       "\n",
       "[1200 rows x 5 columns]"
      ]
     },
     "execution_count": 69,
     "metadata": {},
     "output_type": "execute_result"
    }
   ],
   "source": [
    "resultatGlobal"
   ]
  },
  {
   "cell_type": "code",
   "execution_count": 70,
   "id": "98831859-f73a-4ea8-96da-9df2bc9670bb",
   "metadata": {},
   "outputs": [
    {
     "data": {
      "text/plain": [
       "iPhone       475\n",
       "Samsung      233\n",
       "Huawei       150\n",
       "Xiaomi        76\n",
       "Crosscall     66\n",
       "Tecno         51\n",
       "Google        27\n",
       "Autres        21\n",
       "Sony          19\n",
       "Oppo          15\n",
       "Infinix       10\n",
       "LG            10\n",
       "OnePlus        8\n",
       "Invens         8\n",
       "iPad           5\n",
       "Microsoft      2\n",
       "Lenovo         2\n",
       "Nokia          2\n",
       "TCL            1\n",
       "Ice-Phone      1\n",
       "HP             1\n",
       "Amazon         1\n",
       "Motorola       1\n",
       "x-tigi         1\n",
       "Acer           1\n",
       "HTC            1\n",
       "Name: Marque, dtype: int64"
      ]
     },
     "execution_count": 70,
     "metadata": {},
     "output_type": "execute_result"
    }
   ],
   "source": [
    "resultatGlobal[\"Marque\"].value_counts()"
   ]
  },
  {
   "cell_type": "code",
   "execution_count": 74,
   "id": "2186d1cd-d72b-4e3f-bb34-56e91de62231",
   "metadata": {},
   "outputs": [
    {
     "data": {
      "text/plain": [
       "<AxesSubplot:>"
      ]
     },
     "execution_count": 74,
     "metadata": {},
     "output_type": "execute_result"
    },
    {
     "data": {
      "image/png": "[encoded data removed]",
      "text/plain": [
       "<Figure size 1080x360 with 1 Axes>"
      ]
     },
     "metadata": {
      "needs_background": "light"
     },
     "output_type": "display_data"
    }
   ],
   "source": [
    "plt.figure(figsize=(15, 5))\n",
    "resultatGlobal[\"Marque\"].value_counts(normalize=True).plot(kind=\"bar\")"
   ]
  },
  {
   "cell_type": "code",
   "execution_count": 84,
   "id": "c96a7f5b-fd93-43b2-b042-1b846051495b",
   "metadata": {},
   "outputs": [
    {
     "data": {
      "text/plain": [
       "<AxesSubplot:>"
      ]
     },
     "execution_count": 84,
     "metadata": {},
     "output_type": "execute_result"
    },
    {
     "data": {
      "image/png": "[encoded data removed]",
      "text/plain": [
       "<Figure size 1440x360 with 1 Axes>"
      ]
     },
     "metadata": {
      "needs_background": "light"
     },
     "output_type": "display_data"
    }
   ],
   "source": [
    "plt.figure(figsize=(20, 5))\n",
    "lieuDeVentes = resultatGlobal[\"Lieu de vente\"].value_counts(normalize=True)\n",
    "lieuDeVentes[lieuDeVentes >= 0.05].plot(kind=\"bar\")"
   ]
  },
  {
   "cell_type": "code",
   "execution_count": 77,
   "id": "111a6c93-dc37-4cec-8ab1-8608d41f2ed0",
   "metadata": {},
   "outputs": [
    {
     "data": {
      "text/plain": [
       "array(['Colobane,\\nDakar', 'Gueule-Tapée,\\nDakar', 'Plateau,\\nDakar',\n",
       "       'Hann maristes,\\nDakar', 'Sicap baobab,\\nDakar',\n",
       "       'Dalifort,\\nDakar', 'Yoff,\\nDakar', 'Médina,\\nDakar',\n",
       "       'Fann,\\nDakar', 'Castor,\\nDakar', 'Dieuppeul,\\nDakar',\n",
       "       'Almadies 2,\\nDakar', 'Hlm,\\nDakar', 'Point-e,\\nDakar',\n",
       "       'Grand-Yoff,\\nDakar', 'Sicap Liberté,\\nDakar',\n",
       "       'Keur Massar,\\nDakar', 'Parcelles Assainies,\\nDakar',\n",
       "       'Parcelles Assainies,\\n Dakar', 'Liberte 6 extension,\\nDakar',\n",
       "       'Fenêtre mermoz,\\nDakar', 'Rufisque,\\nDakar',\n",
       "       'Hann Bel-Air,\\nDakar', 'Biscuiterie,\\nDakar', 'Kaolack,\\nKaolack',\n",
       "       'Mermoz,\\nDakar', 'Almadies,\\nDakar', 'Sicap foire,\\nDakar',\n",
       "       'Derkle,\\nDakar', 'Bel air,\\nDakar', 'Hlm grand-yoff,\\nDakar',\n",
       "       'Sacré-cœur,\\nDakar', 'Gibraltar,\\nDakar', 'Plateau,\\n Dakar',\n",
       "       'Liberte 2,\\nDakar', 'Dalifort,\\n Dakar', 'Nord foire,\\nDakar',\n",
       "       'Ouest foire,\\nDakar', 'Cité biagui,\\nDakar', 'Guediawaye,\\nDakar',\n",
       "       'Kaffrine,\\nKaffrine', 'Hann marinas,\\nDakar',\n",
       "       'Sicap Sacré-cœur,\\nDakar', 'Ouakam,\\nDakar', 'Mbao,\\nDakar',\n",
       "       'Liberte 6,\\nDakar', 'Cité avion,\\nDakar',\n",
       "       'Hann maristes,\\n Dakar', 'Amitié,\\nDakar', 'Amitié,\\n Dakar',\n",
       "       'Liberte 5,\\nDakar', 'Dakar', 'Mamelles,\\nDakar', 'Thiès,\\nThiès',\n",
       "       'Popenguine,\\nThiès', 'Sud foire,\\nDakar', 'Grand-Dakar,\\nDakar',\n",
       "       'Fatick,\\nFatick', 'Patte d‘oie,\\nDakar', 'Pikine,\\nDakar',\n",
       "       'Yeumbeul,\\nDakar', 'Travail à distance,\\nTélétravail',\n",
       "       'Diamaguene,\\nDakar', 'Liberte 1,\\nDakar', 'Keur Massar,\\n Dakar',\n",
       "       'Golf,\\nDakar', 'Cambérène,\\nDakar', 'Cité keur gorgui,\\nDakar',\n",
       "       'Comico,\\nDakar', 'Louga,\\nLouga', 'Médina,\\n Dakar',\n",
       "       'Malika,\\nDakar', 'Saly,\\nThiès', 'Zac Mbao,\\nDakar',\n",
       "       'VDN,\\nDakar', 'Liberte 3,\\nDakar', 'Zac Mbao,\\n Dakar',\n",
       "       'Zone de captage,\\nDakar', 'Ngor,\\nDakar', 'Fann,\\n Dakar'],\n",
       "      dtype=object)"
      ]
     },
     "execution_count": 77,
     "metadata": {},
     "output_type": "execute_result"
    }
   ],
   "source": [
    "resultatGlobal[\"Lieu de vente\"].unique()"
   ]
  },
  {
   "cell_type": "code",
   "execution_count": null,
   "id": "a53acfbf-d1bc-42a0-adb9-a1147be112d2",
   "metadata": {},
   "outputs": [],
   "source": []
  }
 ],
 "metadata": {
  "kernelspec": {
   "display_name": "Python 3 (ipykernel)",
   "language": "python",
   "name": "python3"
  },
  "language_info": {
   "codemirror_mode": {
    "name": "ipython",
    "version": 3
   },
   "file_extension": ".py",
   "mimetype": "text/x-python",
   "name": "python",
   "nbconvert_exporter": "python",
   "pygments_lexer": "ipython3",
   "version": "3.8.8"
  }
 },
 "nbformat": 4,
 "nbformat_minor": 5
}
