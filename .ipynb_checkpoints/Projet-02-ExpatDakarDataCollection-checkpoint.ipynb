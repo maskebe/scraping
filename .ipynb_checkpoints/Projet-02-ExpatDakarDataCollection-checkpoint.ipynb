{
 "cells": [
  {
   "cell_type": "markdown",
   "id": "27fa3112-2d4d-4013-96bf-8ea08ae9f59b",
   "metadata": {},
   "source": [
    "<h1 style=\"text-align:center;background-color:#DE9393;color:white;padding:20px;border-radius:10px\">Collecte de données web avec la bibliothèque BeautifulSoup : Cas du site Expat Dakar</h1>"
   ]
  },
  {
   "cell_type": "code",
   "execution_count": 10,
   "id": "c87ca9e2-a0d9-4d76-8f35-4b81d0a38e37",
   "metadata": {},
   "outputs": [],
   "source": [
    "import requests\n",
    "import numpy as np\n",
    "import pandas as \n",
    "import matplotlib.pyplot as plt\n",
    "\n",
    "from bs4 import BeautifulSoup"
   ]
  },
  {
   "cell_type": "code",
   "execution_count": 11,
   "id": "71272006-93f8-449c-9bbb-409ad2a2b8ca",
   "metadata": {},
   "outputs": [],
   "source": [
    "expatDakar = requests.get(\"https://www.expat-dakar.com/telephones\")"
   ]
  },
  {
   "cell_type": "code",
   "execution_count": 12,
   "id": "99f752ad-304c-411a-ad46-bb0dbd4ceeee",
   "metadata": {},
   "outputs": [
    {
     "data": {
      "text/plain": [
       "200"
      ]
     },
     "execution_count": 12,
     "metadata": {},
     "output_type": "execute_result"
    }
   ],
   "source": [
    "expatDakar.status_code"
   ]
  },
  {
   "cell_type": "code",
   "execution_count": 13,
   "id": "5806b6ae-0b10-49f2-afc3-27758f67f2d3",
   "metadata": {},
   "outputs": [],
   "source": [
    "expatDakarSoup = BeautifulSoup(expatDakar.text)"
   ]
  },
  {
   "cell_type": "code",
   "execution_count": 14,
   "id": "6ae485f7-acf0-445b-90fe-506a040e3451",
   "metadata": {},
   "outputs": [],
   "source": [
    "portables = expatDakarSoup.find_all(\"div\", class_=\"listing-card__content\")"
   ]
  },
  {
   "cell_type": "code",
   "execution_count": 15,
   "id": "81ae9f6f-f756-4e18-9b45-1188023f4e49",
   "metadata": {},
   "outputs": [
    {
     "name": "stdout",
     "output_type": "stream",
     "text": [
      "Nombre de portables trouvés : 11\n"
     ]
    }
   ],
   "source": [
    "print(\"Nombre de portables trouvés : {}\".format(len(portables)))"
   ]
  },
  {
   "cell_type": "code",
   "execution_count": 16,
   "id": "a5ef69c6-acca-4e40-a2c8-af6ebd688f2f",
   "metadata": {},
   "outputs": [
    {
     "data": {
      "text/plain": [
       "'Vente iPhone 12 Mini'"
      ]
     },
     "execution_count": 16,
     "metadata": {},
     "output_type": "execute_result"
    }
   ],
   "source": [
    "# Description du téléphone portable\n",
    "portables[2].find(\"div\", class_=\"listing-card__header__title\").text.strip()"
   ]
  },
  {
   "cell_type": "code",
   "execution_count": 21,
   "id": "1001f835-29d1-4886-8316-14dd89d32388",
   "metadata": {},
   "outputs": [],
   "source": [
    "# Etat du téléphone portable : neuf, occasion ou venant\n",
    "portables[2].find(\"span\", class_=\"listing-card__header__tags__item listing-card__header__tags__item--condition listing-card__header__tags__item--condition_used\")"
   ]
  },
  {
   "cell_type": "code",
   "execution_count": 22,
   "id": "1fb3f577-27c4-4bb1-b2b1-bcd68f9875bd",
   "metadata": {},
   "outputs": [
    {
     "data": {
      "text/plain": [
       "'iPhone'"
      ]
     },
     "execution_count": 22,
     "metadata": {},
     "output_type": "execute_result"
    }
   ],
   "source": [
    "# Marque du téléphone portable : Iphone, Samsung, Tecno, Huawei, etc.\n",
    "portables[2].find(\"span\", class_=\"listing-card__header__tags__item listing-card__header__tags__item--make listing-card__header__tags__item--make_iphone\").text.strip()"
   ]
  },
  {
   "cell_type": "code",
   "execution_count": 23,
   "id": "4233c3a5-435f-4a8f-97c4-aa1aa1995dd5",
   "metadata": {},
   "outputs": [
    {
     "data": {
      "text/plain": [
       "'Plateau,\\nDakar'"
      ]
     },
     "execution_count": 23,
     "metadata": {},
     "output_type": "execute_result"
    }
   ],
   "source": [
    "# Lieu de vente\n",
    "portables[2].find(\"div\", class_=\"listing-card__header__location\").text.strip()"
   ]
  },
  {
   "cell_type": "code",
   "execution_count": 24,
   "id": "68e5e963-9aac-48a9-98e1-3aaba5e701d7",
   "metadata": {},
   "outputs": [
    {
     "data": {
      "text/plain": [
       "'330000 F Cfa'"
      ]
     },
     "execution_count": 24,
     "metadata": {},
     "output_type": "execute_result"
    }
   ],
   "source": [
    "# Prix du téléphone portable\n",
    "portables[2].find(\"div\", class_=\"listing-card__info-bar__price\").text.replace(\"\\u202f\", \"\").strip()"
   ]
  },
  {
   "cell_type": "code",
   "execution_count": 25,
   "id": "4096b138-20a2-4e3f-a626-743934c8cdd8",
   "metadata": {},
   "outputs": [],
   "source": [
    "infos = []\n",
    "\n",
    "for portable in portables:\n",
    "    try:\n",
    "        description = portable.find(\"div\", class_=\"listing-card__header__title\").text.strip()\n",
    "    except:\n",
    "        description = None\n",
    "    try:\n",
    "        etat_telephone = portable.find(\"span\", class_=\"listing-card__header__tags__item listing-card__header__tags__item--condition listing-card__header__tags__item--condition_used\").text.strip()\n",
    "    except:\n",
    "        etat_telephone = None\n",
    "    try:\n",
    "        marque = portable.find(\"span\", class_=\"listing-card__header__tags__item listing-card__header__tags__item--make listing-card__header__tags__item--make_iphone\").text.strip()\n",
    "    except:\n",
    "        marque = None\n",
    "    try:\n",
    "        lieu_de_vente = portable.find(\"div\", class_=\"listing-card__header__location\").text.strip()\n",
    "    except:\n",
    "        lieu_de_vente = None\n",
    "    try:\n",
    "        prix = portable.find(\"div\", class_=\"listing-card__info-bar__price\").text.replace(\"\\u202f\", \"\").strip()\n",
    "    except:\n",
    "        prix = None\n",
    "    \n",
    "    info = {\n",
    "        \"Description\":description,\n",
    "        \"Etat du téléphone\": etat_telephone,\n",
    "        \"Marque\":marque,\n",
    "        \"Lieu de vente\":lieu_de_vente,\n",
    "        \"Prix\":prix\n",
    "    }\n",
    "    \n",
    "    infos.append(info)"
   ]
  },
  {
   "cell_type": "code",
   "execution_count": 26,
   "id": "99b4fee4-2575-4717-8e34-a69826df5d1e",
   "metadata": {},
   "outputs": [],
   "source": [
    "import pandas as pd"
   ]
  },
  {
   "cell_type": "code",
   "execution_count": 27,
   "id": "0391eb4c-abe7-464f-960a-1aebbe60e2f6",
   "metadata": {},
   "outputs": [],
   "source": [
    "resultats = pd.DataFrame(infos)"
   ]
  },
  {
   "cell_type": "code",
   "execution_count": 28,
   "id": "9cddb0b9-dfed-471d-964f-8dd28b998e69",
   "metadata": {},
   "outputs": [
    {
     "data": {
      "text/html": [
       "<div>\n",
       "<style scoped>\n",
       "    .dataframe tbody tr th:only-of-type {\n",
       "        vertical-align: middle;\n",
       "    }\n",
       "\n",
       "    .dataframe tbody tr th {\n",
       "        vertical-align: top;\n",
       "    }\n",
       "\n",
       "    .dataframe thead th {\n",
       "        text-align: right;\n",
       "    }\n",
       "</style>\n",
       "<table border=\"1\" class=\"dataframe\">\n",
       "  <thead>\n",
       "    <tr style=\"text-align: right;\">\n",
       "      <th></th>\n",
       "      <th>Description</th>\n",
       "      <th>Etat du téléphone</th>\n",
       "      <th>Marque</th>\n",
       "      <th>Lieu de vente</th>\n",
       "      <th>Prix</th>\n",
       "    </tr>\n",
       "  </thead>\n",
       "  <tbody>\n",
       "    <tr>\n",
       "      <th>0</th>\n",
       "      <td>Redmi note 11</td>\n",
       "      <td>None</td>\n",
       "      <td>None</td>\n",
       "      <td>Plateau,\\nDakar</td>\n",
       "      <td>140000 F Cfa</td>\n",
       "    </tr>\n",
       "    <tr>\n",
       "      <th>1</th>\n",
       "      <td>Coques iPhone &amp; Samsung</td>\n",
       "      <td>None</td>\n",
       "      <td>None</td>\n",
       "      <td>Ouakam,\\nDakar</td>\n",
       "      <td>12000 F Cfa</td>\n",
       "    </tr>\n",
       "    <tr>\n",
       "      <th>2</th>\n",
       "      <td>Vente iPhone 12 Mini</td>\n",
       "      <td>None</td>\n",
       "      <td>iPhone</td>\n",
       "      <td>Plateau,\\nDakar</td>\n",
       "      <td>330000 F Cfa</td>\n",
       "    </tr>\n",
       "    <tr>\n",
       "      <th>3</th>\n",
       "      <td>Redmi 9a</td>\n",
       "      <td>None</td>\n",
       "      <td>None</td>\n",
       "      <td>Plateau,\\nDakar</td>\n",
       "      <td>65000 F Cfa</td>\n",
       "    </tr>\n",
       "    <tr>\n",
       "      <th>4</th>\n",
       "      <td>IPhone 13 Pro Max</td>\n",
       "      <td>None</td>\n",
       "      <td>iPhone</td>\n",
       "      <td>Colobane,\\nDakar</td>\n",
       "      <td>790000 F Cfa</td>\n",
       "    </tr>\n",
       "    <tr>\n",
       "      <th>5</th>\n",
       "      <td>Iphone XR</td>\n",
       "      <td>D'occasion</td>\n",
       "      <td>iPhone</td>\n",
       "      <td>Gueule-Tapée,\\nDakar</td>\n",
       "      <td>199900 F Cfa</td>\n",
       "    </tr>\n",
       "    <tr>\n",
       "      <th>6</th>\n",
       "      <td>IPhone 11 Pro Max</td>\n",
       "      <td>None</td>\n",
       "      <td>iPhone</td>\n",
       "      <td>Colobane,\\nDakar</td>\n",
       "      <td>410000 F Cfa</td>\n",
       "    </tr>\n",
       "    <tr>\n",
       "      <th>7</th>\n",
       "      <td>Iphone 11</td>\n",
       "      <td>None</td>\n",
       "      <td>iPhone</td>\n",
       "      <td>Colobane,\\nDakar</td>\n",
       "      <td>259000 F Cfa\\n\\n289000 F Cfa\\n\\nÉconomisez 10.4%</td>\n",
       "    </tr>\n",
       "    <tr>\n",
       "      <th>8</th>\n",
       "      <td>Iphone Xs</td>\n",
       "      <td>D'occasion</td>\n",
       "      <td>iPhone</td>\n",
       "      <td>Golf,\\nDakar</td>\n",
       "      <td>230000 F Cfa</td>\n",
       "    </tr>\n",
       "    <tr>\n",
       "      <th>9</th>\n",
       "      <td>Samsung Galaxy A02 - 4G</td>\n",
       "      <td>None</td>\n",
       "      <td>None</td>\n",
       "      <td>Dalifort,\\nDakar</td>\n",
       "      <td>59000 F Cfa</td>\n",
       "    </tr>\n",
       "    <tr>\n",
       "      <th>10</th>\n",
       "      <td>Téléphone invens h3 16go</td>\n",
       "      <td>None</td>\n",
       "      <td>None</td>\n",
       "      <td>Gueule-Tapée,\\nDakar</td>\n",
       "      <td>29900 F Cfa</td>\n",
       "    </tr>\n",
       "  </tbody>\n",
       "</table>\n",
       "</div>"
      ],
      "text/plain": [
       "                 Description Etat du téléphone  Marque         Lieu de vente  \\\n",
       "0              Redmi note 11              None    None       Plateau,\\nDakar   \n",
       "1    Coques iPhone & Samsung              None    None        Ouakam,\\nDakar   \n",
       "2       Vente iPhone 12 Mini              None  iPhone       Plateau,\\nDakar   \n",
       "3                   Redmi 9a              None    None       Plateau,\\nDakar   \n",
       "4          IPhone 13 Pro Max              None  iPhone      Colobane,\\nDakar   \n",
       "5                  Iphone XR        D'occasion  iPhone  Gueule-Tapée,\\nDakar   \n",
       "6          IPhone 11 Pro Max              None  iPhone      Colobane,\\nDakar   \n",
       "7                  Iphone 11              None  iPhone      Colobane,\\nDakar   \n",
       "8                  Iphone Xs        D'occasion  iPhone          Golf,\\nDakar   \n",
       "9    Samsung Galaxy A02 - 4G              None    None      Dalifort,\\nDakar   \n",
       "10  Téléphone invens h3 16go              None    None  Gueule-Tapée,\\nDakar   \n",
       "\n",
       "                                                Prix  \n",
       "0                                       140000 F Cfa  \n",
       "1                                        12000 F Cfa  \n",
       "2                                       330000 F Cfa  \n",
       "3                                        65000 F Cfa  \n",
       "4                                       790000 F Cfa  \n",
       "5                                       199900 F Cfa  \n",
       "6                                       410000 F Cfa  \n",
       "7   259000 F Cfa\\n\\n289000 F Cfa\\n\\nÉconomisez 10.4%  \n",
       "8                                       230000 F Cfa  \n",
       "9                                        59000 F Cfa  \n",
       "10                                       29900 F Cfa  "
      ]
     },
     "execution_count": 28,
     "metadata": {},
     "output_type": "execute_result"
    }
   ],
   "source": [
    "resultats"
   ]
  },
  {
   "cell_type": "code",
   "execution_count": 29,
   "id": "70c411f6-3669-4915-80d2-6e62f6c9ff2a",
   "metadata": {},
   "outputs": [
    {
     "data": {
      "text/plain": [
       "D'occasion    2\n",
       "Name: Etat du téléphone, dtype: int64"
      ]
     },
     "execution_count": 29,
     "metadata": {},
     "output_type": "execute_result"
    }
   ],
   "source": [
    "resultats[\"Etat du téléphone\"].value_counts()"
   ]
  },
  {
   "cell_type": "code",
   "execution_count": 30,
   "id": "78c95b70-47ab-447a-92e8-f2ee0f5e3285",
   "metadata": {},
   "outputs": [
    {
     "data": {
      "text/plain": [
       "iPhone    6\n",
       "Name: Marque, dtype: int64"
      ]
     },
     "execution_count": 30,
     "metadata": {},
     "output_type": "execute_result"
    }
   ],
   "source": [
    "resultats[\"Marque\"].value_counts()"
   ]
  },
  {
   "cell_type": "markdown",
   "id": "db7d7d54-b1aa-4601-81cc-7587596fe5cd",
   "metadata": {},
   "source": [
    "## Extraction des informations relatives aux classes présentant une certaine spécificité par rapport à la marque"
   ]
  },
  {
   "cell_type": "markdown",
   "id": "bae3175d-210a-436c-b001-6d778431c23d",
   "metadata": {},
   "source": [
    "### Première méthode d'extraction de la marque"
   ]
  },
  {
   "cell_type": "code",
   "execution_count": 31,
   "id": "6f426d5d-d1bc-4275-b009-2d9a9b405fb8",
   "metadata": {},
   "outputs": [],
   "source": [
    "portables[1].find(\"div\", class_=\"listing-card__header__tags\").find_all(\"span\")\n",
    "etatTelephone = portables[1].find(\"div\", class_=\"listing-card__header__tags\").find_all(\"span\")[0].text\n",
    "marque = portables[1].find(\"div\", class_=\"listing-card__header__tags\").find_all(\"span\")[1].text"
   ]
  },
  {
   "cell_type": "markdown",
   "id": "cce5c4f0-ba9f-437b-9dd6-827a82d84505",
   "metadata": {},
   "source": [
    "### Deuxième méthode d'extraction de la marque"
   ]
  },
  {
   "cell_type": "code",
   "execution_count": 32,
   "id": "6f281b74-2235-4837-a104-595f5ed82fdb",
   "metadata": {},
   "outputs": [
    {
     "data": {
      "text/plain": [
       "'iphone'"
      ]
     },
     "execution_count": 32,
     "metadata": {},
     "output_type": "execute_result"
    }
   ],
   "source": [
    "marqueTelephone = portables[2].find(\"div\", class_=\"listing-card__header__tags\").find_all(\"span\")[1]\n",
    "marqueTelephone.attrs[\"class\"][-1].split(\"_\")[-1]"
   ]
  },
  {
   "cell_type": "code",
   "execution_count": 33,
   "id": "e42d8c3a-ef95-43fe-8cf1-9f9e8eaaa5f3",
   "metadata": {},
   "outputs": [
    {
     "name": "stdout",
     "output_type": "stream",
     "text": [
      "xiaomi\n",
      "autres-phones-brand\n",
      "iphone\n",
      "xiaomi\n",
      "iphone\n",
      "iphone\n",
      "iphone\n",
      "iphone\n",
      "iphone\n",
      "samsung\n",
      "invens\n"
     ]
    }
   ],
   "source": [
    "for portable in portables:\n",
    "    marque = portable.find(\"div\", class_=\"listing-card__header__tags\").find_all(\"span\")[1].attrs[\"class\"][2].split(\"_\")[-1]\n",
    "    print(marque)"
   ]
  },
  {
   "cell_type": "markdown",
   "id": "9c5fc097-3738-42a1-b608-4caf46501a59",
   "metadata": {},
   "source": [
    "## Extraction des informations relatives à l'état des téléphones portables"
   ]
  },
  {
   "cell_type": "code",
   "execution_count": 34,
   "id": "94bf6505-9b57-4517-a0c4-d89d35784b2d",
   "metadata": {},
   "outputs": [
    {
     "name": "stdout",
     "output_type": "stream",
     "text": [
      "Neuf\n",
      "Neuf\n",
      "Venant\n",
      "Neuf\n",
      "Neuf\n",
      "D'occasion\n",
      "Venant\n",
      "Venant\n",
      "D'occasion\n",
      "Neuf\n",
      "Neuf\n"
     ]
    }
   ],
   "source": [
    "for portable in portables:\n",
    "    etatTelephone = portable.find(\"div\", class_=\"listing-card__header__tags\").find_all(\"span\")[0].text\n",
    "    print(etatTelephone)"
   ]
  },
  {
   "cell_type": "code",
   "execution_count": 35,
   "id": "0e853181-fbd3-4e86-bdac-5ec63638107b",
   "metadata": {},
   "outputs": [],
   "source": [
    "infosAmeliorees = []\n",
    "\n",
    "for portable in portables:\n",
    "    try:\n",
    "        description = portable.find(\"div\", class_=\"listing-card__header__title\").text.strip()\n",
    "    except:\n",
    "        description = None\n",
    "    try:\n",
    "        # Amélioration à partir de la première méthode\n",
    "        etat_telephone = portable.find(\"div\", class_=\"listing-card__header__tags\").find_all(\"span\")[0].text\n",
    "    except:\n",
    "        etat_telephone = None\n",
    "    try:\n",
    "        # Amélioration à partir de la première éthode\n",
    "        marque = portable.find(\"div\", class_=\"listing-card__header__tags\").find_all(\"span\")[1].text\n",
    "    except:\n",
    "        marque = None\n",
    "    try:\n",
    "        lieu_de_vente = portable.find(\"div\", class_=\"listing-card__header__location\").text.strip()\n",
    "    except:\n",
    "        lieu_de_vente = None\n",
    "    try:\n",
    "        prix = portable.find(\"div\", class_=\"listing-card__info-bar__price\").text.replace(\"\\u202f\", \"\").strip()\n",
    "    except:\n",
    "        prix = None\n",
    "    \n",
    "    info = {\n",
    "        \"Description\":description,\n",
    "        \"Etat du téléphone\": etat_telephone,\n",
    "        \"Marque\":marque,\n",
    "        \"Lieu de vente\":lieu_de_vente,\n",
    "        \"Prix\":prix\n",
    "    }\n",
    "    \n",
    "    infosAmeliorees.append(info)"
   ]
  },
  {
   "cell_type": "code",
   "execution_count": 36,
   "id": "e6589193-652f-44ce-a2f9-72b96dda6364",
   "metadata": {},
   "outputs": [
    {
     "data": {
      "text/html": [
       "<div>\n",
       "<style scoped>\n",
       "    .dataframe tbody tr th:only-of-type {\n",
       "        vertical-align: middle;\n",
       "    }\n",
       "\n",
       "    .dataframe tbody tr th {\n",
       "        vertical-align: top;\n",
       "    }\n",
       "\n",
       "    .dataframe thead th {\n",
       "        text-align: right;\n",
       "    }\n",
       "</style>\n",
       "<table border=\"1\" class=\"dataframe\">\n",
       "  <thead>\n",
       "    <tr style=\"text-align: right;\">\n",
       "      <th></th>\n",
       "      <th>Description</th>\n",
       "      <th>Etat du téléphone</th>\n",
       "      <th>Marque</th>\n",
       "      <th>Lieu de vente</th>\n",
       "      <th>Prix</th>\n",
       "    </tr>\n",
       "  </thead>\n",
       "  <tbody>\n",
       "    <tr>\n",
       "      <th>0</th>\n",
       "      <td>Redmi note 11</td>\n",
       "      <td>Neuf</td>\n",
       "      <td>Xiaomi</td>\n",
       "      <td>Plateau,\\nDakar</td>\n",
       "      <td>140000 F Cfa</td>\n",
       "    </tr>\n",
       "    <tr>\n",
       "      <th>1</th>\n",
       "      <td>Coques iPhone &amp; Samsung</td>\n",
       "      <td>Neuf</td>\n",
       "      <td>Autres</td>\n",
       "      <td>Ouakam,\\nDakar</td>\n",
       "      <td>12000 F Cfa</td>\n",
       "    </tr>\n",
       "    <tr>\n",
       "      <th>2</th>\n",
       "      <td>Vente iPhone 12 Mini</td>\n",
       "      <td>Venant</td>\n",
       "      <td>iPhone</td>\n",
       "      <td>Plateau,\\nDakar</td>\n",
       "      <td>330000 F Cfa</td>\n",
       "    </tr>\n",
       "    <tr>\n",
       "      <th>3</th>\n",
       "      <td>Redmi 9a</td>\n",
       "      <td>Neuf</td>\n",
       "      <td>Xiaomi</td>\n",
       "      <td>Plateau,\\nDakar</td>\n",
       "      <td>65000 F Cfa</td>\n",
       "    </tr>\n",
       "    <tr>\n",
       "      <th>4</th>\n",
       "      <td>IPhone 13 Pro Max</td>\n",
       "      <td>Neuf</td>\n",
       "      <td>iPhone</td>\n",
       "      <td>Colobane,\\nDakar</td>\n",
       "      <td>790000 F Cfa</td>\n",
       "    </tr>\n",
       "    <tr>\n",
       "      <th>5</th>\n",
       "      <td>Iphone XR</td>\n",
       "      <td>D'occasion</td>\n",
       "      <td>iPhone</td>\n",
       "      <td>Gueule-Tapée,\\nDakar</td>\n",
       "      <td>199900 F Cfa</td>\n",
       "    </tr>\n",
       "    <tr>\n",
       "      <th>6</th>\n",
       "      <td>IPhone 11 Pro Max</td>\n",
       "      <td>Venant</td>\n",
       "      <td>iPhone</td>\n",
       "      <td>Colobane,\\nDakar</td>\n",
       "      <td>410000 F Cfa</td>\n",
       "    </tr>\n",
       "    <tr>\n",
       "      <th>7</th>\n",
       "      <td>Iphone 11</td>\n",
       "      <td>Venant</td>\n",
       "      <td>iPhone</td>\n",
       "      <td>Colobane,\\nDakar</td>\n",
       "      <td>259000 F Cfa\\n\\n289000 F Cfa\\n\\nÉconomisez 10.4%</td>\n",
       "    </tr>\n",
       "    <tr>\n",
       "      <th>8</th>\n",
       "      <td>Iphone Xs</td>\n",
       "      <td>D'occasion</td>\n",
       "      <td>iPhone</td>\n",
       "      <td>Golf,\\nDakar</td>\n",
       "      <td>230000 F Cfa</td>\n",
       "    </tr>\n",
       "    <tr>\n",
       "      <th>9</th>\n",
       "      <td>Samsung Galaxy A02 - 4G</td>\n",
       "      <td>Neuf</td>\n",
       "      <td>Samsung</td>\n",
       "      <td>Dalifort,\\nDakar</td>\n",
       "      <td>59000 F Cfa</td>\n",
       "    </tr>\n",
       "    <tr>\n",
       "      <th>10</th>\n",
       "      <td>Téléphone invens h3 16go</td>\n",
       "      <td>Neuf</td>\n",
       "      <td>Invens</td>\n",
       "      <td>Gueule-Tapée,\\nDakar</td>\n",
       "      <td>29900 F Cfa</td>\n",
       "    </tr>\n",
       "  </tbody>\n",
       "</table>\n",
       "</div>"
      ],
      "text/plain": [
       "                 Description Etat du téléphone   Marque         Lieu de vente  \\\n",
       "0              Redmi note 11              Neuf   Xiaomi       Plateau,\\nDakar   \n",
       "1    Coques iPhone & Samsung              Neuf   Autres        Ouakam,\\nDakar   \n",
       "2       Vente iPhone 12 Mini            Venant   iPhone       Plateau,\\nDakar   \n",
       "3                   Redmi 9a              Neuf   Xiaomi       Plateau,\\nDakar   \n",
       "4          IPhone 13 Pro Max              Neuf   iPhone      Colobane,\\nDakar   \n",
       "5                  Iphone XR        D'occasion   iPhone  Gueule-Tapée,\\nDakar   \n",
       "6          IPhone 11 Pro Max            Venant   iPhone      Colobane,\\nDakar   \n",
       "7                  Iphone 11            Venant   iPhone      Colobane,\\nDakar   \n",
       "8                  Iphone Xs        D'occasion   iPhone          Golf,\\nDakar   \n",
       "9    Samsung Galaxy A02 - 4G              Neuf  Samsung      Dalifort,\\nDakar   \n",
       "10  Téléphone invens h3 16go              Neuf   Invens  Gueule-Tapée,\\nDakar   \n",
       "\n",
       "                                                Prix  \n",
       "0                                       140000 F Cfa  \n",
       "1                                        12000 F Cfa  \n",
       "2                                       330000 F Cfa  \n",
       "3                                        65000 F Cfa  \n",
       "4                                       790000 F Cfa  \n",
       "5                                       199900 F Cfa  \n",
       "6                                       410000 F Cfa  \n",
       "7   259000 F Cfa\\n\\n289000 F Cfa\\n\\nÉconomisez 10.4%  \n",
       "8                                       230000 F Cfa  \n",
       "9                                        59000 F Cfa  \n",
       "10                                       29900 F Cfa  "
      ]
     },
     "execution_count": 36,
     "metadata": {},
     "output_type": "execute_result"
    }
   ],
   "source": [
    "pd.DataFrame(infosAmeliorees)"
   ]
  },
  {
   "cell_type": "markdown",
   "id": "9328d845-f0d9-44e1-9316-54ef309c7697",
   "metadata": {},
   "source": [
    "## Généralisation de la méthode de collecte d'informations à l'ensemble des pages du site de Expact Dakar"
   ]
  },
  {
   "cell_type": "code",
   "execution_count": 37,
   "id": "173b2f42-ce63-472e-8909-13da3c14c6cb",
   "metadata": {},
   "outputs": [],
   "source": [
    "pages = []\n",
    "\n",
    "for i in range(100):\n",
    "    if (i+1) == 1:\n",
    "        page = requests.get(\"https://www.expat-dakar.com/telephones\")\n",
    "    else:\n",
    "        page = requests.get(\"https://www.expat-dakar.com/telephones?page={}\".format((i+1)))\n",
    "    pages.append(BeautifulSoup(page.text))"
   ]
  },
  {
   "cell_type": "code",
   "execution_count": 38,
   "id": "b4e75c6e-c73b-40d1-80c6-208d8b702d99",
   "metadata": {},
   "outputs": [],
   "source": [
    "#print(\"Il y a {} pages sur {} de code status 200\".format(sum([int(page.status_code == 200) for page in pages]), len(pages)))"
   ]
  },
  {
   "cell_type": "code",
   "execution_count": 39,
   "id": "2ff2a0f7-ab12-4526-aeb3-5ca737d82493",
   "metadata": {},
   "outputs": [],
   "source": [
    "infosGlobales = []\n",
    "\n",
    "for page in pages:\n",
    "    portables = page.find_all(\"div\", class_=\"listing-card__content\")\n",
    "    for portable in portables:\n",
    "        try:\n",
    "            description = portable.find(\"div\", class_=\"listing-card__header__title\").text.strip()\n",
    "        except:\n",
    "            description = None\n",
    "        try:\n",
    "            # Amélioration à partir de la première méthode\n",
    "            etat_telephone = portable.find(\"div\", class_=\"listing-card__header__tags\").find_all(\"span\")[0].text\n",
    "        except:\n",
    "            etat_telephone = None\n",
    "        try:\n",
    "            # Amélioration à partir de la première éthode\n",
    "            marque = portable.find(\"div\", class_=\"listing-card__header__tags\").find_all(\"span\")[1].text\n",
    "        except:\n",
    "            marque = None\n",
    "        try:\n",
    "            lieu_de_vente = portable.find(\"div\", class_=\"listing-card__header__location\").text.strip()\n",
    "        except:\n",
    "            lieu_de_vente = None\n",
    "        try:\n",
    "            prix = portable.find(\"div\", class_=\"listing-card__info-bar__price\").text.replace(\"\\u202f\", \"\").strip()\n",
    "        except:\n",
    "            prix = None\n",
    "\n",
    "        info = {\n",
    "            \"Description\":description,\n",
    "            \"Etat du téléphone\": etat_telephone,\n",
    "            \"Marque\":marque,\n",
    "            \"Lieu de vente\":lieu_de_vente,\n",
    "            \"Prix\":prix\n",
    "        }\n",
    "\n",
    "        infosGlobales.append(info)"
   ]
  },
  {
   "cell_type": "code",
   "execution_count": 40,
   "id": "38570a7f-c6cf-41c5-85d7-6b8580eb108e",
   "metadata": {},
   "outputs": [],
   "source": [
    "resultatGlobal = pd.DataFrame(infosGlobales)"
   ]
  },
  {
   "cell_type": "code",
   "execution_count": 41,
   "id": "462d333d-62d1-4934-860b-3590efa1c4ed",
   "metadata": {},
   "outputs": [
    {
     "data": {
      "text/html": [
       "<div>\n",
       "<style scoped>\n",
       "    .dataframe tbody tr th:only-of-type {\n",
       "        vertical-align: middle;\n",
       "    }\n",
       "\n",
       "    .dataframe tbody tr th {\n",
       "        vertical-align: top;\n",
       "    }\n",
       "\n",
       "    .dataframe thead th {\n",
       "        text-align: right;\n",
       "    }\n",
       "</style>\n",
       "<table border=\"1\" class=\"dataframe\">\n",
       "  <thead>\n",
       "    <tr style=\"text-align: right;\">\n",
       "      <th></th>\n",
       "      <th>Description</th>\n",
       "      <th>Etat du téléphone</th>\n",
       "      <th>Marque</th>\n",
       "      <th>Lieu de vente</th>\n",
       "      <th>Prix</th>\n",
       "    </tr>\n",
       "  </thead>\n",
       "  <tbody>\n",
       "    <tr>\n",
       "      <th>0</th>\n",
       "      <td>Redmi note 11</td>\n",
       "      <td>Neuf</td>\n",
       "      <td>Xiaomi</td>\n",
       "      <td>Plateau,\\nDakar</td>\n",
       "      <td>140000 F Cfa</td>\n",
       "    </tr>\n",
       "    <tr>\n",
       "      <th>1</th>\n",
       "      <td>Coques iPhone &amp; Samsung</td>\n",
       "      <td>Neuf</td>\n",
       "      <td>Autres</td>\n",
       "      <td>Ouakam,\\nDakar</td>\n",
       "      <td>12000 F Cfa</td>\n",
       "    </tr>\n",
       "    <tr>\n",
       "      <th>2</th>\n",
       "      <td>Vente iPhone 12 Mini</td>\n",
       "      <td>Venant</td>\n",
       "      <td>iPhone</td>\n",
       "      <td>Plateau,\\nDakar</td>\n",
       "      <td>330000 F Cfa</td>\n",
       "    </tr>\n",
       "    <tr>\n",
       "      <th>3</th>\n",
       "      <td>Redmi 9a</td>\n",
       "      <td>Neuf</td>\n",
       "      <td>Xiaomi</td>\n",
       "      <td>Plateau,\\nDakar</td>\n",
       "      <td>65000 F Cfa</td>\n",
       "    </tr>\n",
       "    <tr>\n",
       "      <th>4</th>\n",
       "      <td>IPhone 13 Pro Max</td>\n",
       "      <td>Neuf</td>\n",
       "      <td>iPhone</td>\n",
       "      <td>Colobane,\\nDakar</td>\n",
       "      <td>790000 F Cfa</td>\n",
       "    </tr>\n",
       "    <tr>\n",
       "      <th>...</th>\n",
       "      <td>...</td>\n",
       "      <td>...</td>\n",
       "      <td>...</td>\n",
       "      <td>...</td>\n",
       "      <td>...</td>\n",
       "    </tr>\n",
       "    <tr>\n",
       "      <th>1095</th>\n",
       "      <td>iPhone 12 promax</td>\n",
       "      <td>Neuf</td>\n",
       "      <td>iPhone</td>\n",
       "      <td>Castor,\\nDakar</td>\n",
       "      <td>550000 F Cfa</td>\n",
       "    </tr>\n",
       "    <tr>\n",
       "      <th>1096</th>\n",
       "      <td>iPhone 13 PRO MAX</td>\n",
       "      <td>Neuf</td>\n",
       "      <td>iPhone</td>\n",
       "      <td>Sacré-cœur,\\nDakar</td>\n",
       "      <td>750000 F Cfa</td>\n",
       "    </tr>\n",
       "    <tr>\n",
       "      <th>1097</th>\n",
       "      <td>IPhone 11 simple 64GB</td>\n",
       "      <td>D'occasion</td>\n",
       "      <td>iPhone</td>\n",
       "      <td>Castor,\\nDakar</td>\n",
       "      <td>265000 F Cfa</td>\n",
       "    </tr>\n",
       "    <tr>\n",
       "      <th>1098</th>\n",
       "      <td>iPhone 13 pro max 128GB bleu</td>\n",
       "      <td>Neuf</td>\n",
       "      <td>iPhone</td>\n",
       "      <td>Liberte 1,\\nDakar</td>\n",
       "      <td>800000 F Cfa</td>\n",
       "    </tr>\n",
       "    <tr>\n",
       "      <th>1099</th>\n",
       "      <td>iPhone 13 pro max 128 giga Blue</td>\n",
       "      <td>D'occasion</td>\n",
       "      <td>iPhone</td>\n",
       "      <td>Hann maristes,\\nDakar</td>\n",
       "      <td>780000 F Cfa</td>\n",
       "    </tr>\n",
       "  </tbody>\n",
       "</table>\n",
       "<p>1100 rows × 5 columns</p>\n",
       "</div>"
      ],
      "text/plain": [
       "                          Description Etat du téléphone  Marque  \\\n",
       "0                       Redmi note 11              Neuf  Xiaomi   \n",
       "1             Coques iPhone & Samsung              Neuf  Autres   \n",
       "2                Vente iPhone 12 Mini            Venant  iPhone   \n",
       "3                            Redmi 9a              Neuf  Xiaomi   \n",
       "4                   IPhone 13 Pro Max              Neuf  iPhone   \n",
       "...                               ...               ...     ...   \n",
       "1095                 iPhone 12 promax              Neuf  iPhone   \n",
       "1096                iPhone 13 PRO MAX              Neuf  iPhone   \n",
       "1097            IPhone 11 simple 64GB        D'occasion  iPhone   \n",
       "1098     iPhone 13 pro max 128GB bleu              Neuf  iPhone   \n",
       "1099  iPhone 13 pro max 128 giga Blue        D'occasion  iPhone   \n",
       "\n",
       "              Lieu de vente          Prix  \n",
       "0           Plateau,\\nDakar  140000 F Cfa  \n",
       "1            Ouakam,\\nDakar   12000 F Cfa  \n",
       "2           Plateau,\\nDakar  330000 F Cfa  \n",
       "3           Plateau,\\nDakar   65000 F Cfa  \n",
       "4          Colobane,\\nDakar  790000 F Cfa  \n",
       "...                     ...           ...  \n",
       "1095         Castor,\\nDakar  550000 F Cfa  \n",
       "1096     Sacré-cœur,\\nDakar  750000 F Cfa  \n",
       "1097         Castor,\\nDakar  265000 F Cfa  \n",
       "1098      Liberte 1,\\nDakar  800000 F Cfa  \n",
       "1099  Hann maristes,\\nDakar  780000 F Cfa  \n",
       "\n",
       "[1100 rows x 5 columns]"
      ]
     },
     "execution_count": 41,
     "metadata": {},
     "output_type": "execute_result"
    }
   ],
   "source": [
    "resultatGlobal"
   ]
  },
  {
   "cell_type": "code",
   "execution_count": 42,
   "id": "2bd07e43-eea1-4e28-9f5e-b8bd0166c004",
   "metadata": {},
   "outputs": [],
   "source": [
    "import re"
   ]
  },
  {
   "cell_type": "code",
   "execution_count": 67,
   "id": "1e032bbb-e482-4a5d-8af3-ccf94af6e99c",
   "metadata": {},
   "outputs": [],
   "source": [
    "def convertStringToNumber(prix):\n",
    "    try:\n",
    "        resultat = int(re.sub(\"[^0-9]\", \"\", prix))\n",
    "        return resultat\n",
    "    except:\n",
    "        resultat = pd.NA\n",
    "        return resultat"
   ]
  },
  {
   "cell_type": "code",
   "execution_count": 68,
   "id": "4451ecaf-f506-4f19-802b-b2ce50c79e7d",
   "metadata": {},
   "outputs": [],
   "source": [
    "resultatGlobal[\"Prix Numérique\"] = resultatGlobal[\"Prix\"].apply(lambda prix: convertStringToNumber(prix))"
   ]
  },
  {
   "cell_type": "code",
   "execution_count": 69,
   "id": "d5e36faf-562f-426a-ab22-373f56f4b08d",
   "metadata": {},
   "outputs": [
    {
     "data": {
      "text/html": [
       "<div>\n",
       "<style scoped>\n",
       "    .dataframe tbody tr th:only-of-type {\n",
       "        vertical-align: middle;\n",
       "    }\n",
       "\n",
       "    .dataframe tbody tr th {\n",
       "        vertical-align: top;\n",
       "    }\n",
       "\n",
       "    .dataframe thead th {\n",
       "        text-align: right;\n",
       "    }\n",
       "</style>\n",
       "<table border=\"1\" class=\"dataframe\">\n",
       "  <thead>\n",
       "    <tr style=\"text-align: right;\">\n",
       "      <th></th>\n",
       "      <th>Description</th>\n",
       "      <th>Etat du téléphone</th>\n",
       "      <th>Marque</th>\n",
       "      <th>Lieu de vente</th>\n",
       "      <th>Prix</th>\n",
       "      <th>Prix Numérique</th>\n",
       "    </tr>\n",
       "  </thead>\n",
       "  <tbody>\n",
       "    <tr>\n",
       "      <th>0</th>\n",
       "      <td>Redmi note 11</td>\n",
       "      <td>Neuf</td>\n",
       "      <td>Xiaomi</td>\n",
       "      <td>Plateau,\\nDakar</td>\n",
       "      <td>140000 F Cfa</td>\n",
       "      <td>140000</td>\n",
       "    </tr>\n",
       "    <tr>\n",
       "      <th>1</th>\n",
       "      <td>Coques iPhone &amp; Samsung</td>\n",
       "      <td>Neuf</td>\n",
       "      <td>Autres</td>\n",
       "      <td>Ouakam,\\nDakar</td>\n",
       "      <td>12000 F Cfa</td>\n",
       "      <td>12000</td>\n",
       "    </tr>\n",
       "    <tr>\n",
       "      <th>2</th>\n",
       "      <td>Vente iPhone 12 Mini</td>\n",
       "      <td>Venant</td>\n",
       "      <td>iPhone</td>\n",
       "      <td>Plateau,\\nDakar</td>\n",
       "      <td>330000 F Cfa</td>\n",
       "      <td>330000</td>\n",
       "    </tr>\n",
       "    <tr>\n",
       "      <th>3</th>\n",
       "      <td>Redmi 9a</td>\n",
       "      <td>Neuf</td>\n",
       "      <td>Xiaomi</td>\n",
       "      <td>Plateau,\\nDakar</td>\n",
       "      <td>65000 F Cfa</td>\n",
       "      <td>65000</td>\n",
       "    </tr>\n",
       "    <tr>\n",
       "      <th>4</th>\n",
       "      <td>IPhone 13 Pro Max</td>\n",
       "      <td>Neuf</td>\n",
       "      <td>iPhone</td>\n",
       "      <td>Colobane,\\nDakar</td>\n",
       "      <td>790000 F Cfa</td>\n",
       "      <td>790000</td>\n",
       "    </tr>\n",
       "    <tr>\n",
       "      <th>5</th>\n",
       "      <td>Iphone XR</td>\n",
       "      <td>D'occasion</td>\n",
       "      <td>iPhone</td>\n",
       "      <td>Gueule-Tapée,\\nDakar</td>\n",
       "      <td>199900 F Cfa</td>\n",
       "      <td>199900</td>\n",
       "    </tr>\n",
       "    <tr>\n",
       "      <th>6</th>\n",
       "      <td>IPhone 11 Pro Max</td>\n",
       "      <td>Venant</td>\n",
       "      <td>iPhone</td>\n",
       "      <td>Colobane,\\nDakar</td>\n",
       "      <td>410000 F Cfa</td>\n",
       "      <td>410000</td>\n",
       "    </tr>\n",
       "    <tr>\n",
       "      <th>7</th>\n",
       "      <td>Iphone 11</td>\n",
       "      <td>Venant</td>\n",
       "      <td>iPhone</td>\n",
       "      <td>Colobane,\\nDakar</td>\n",
       "      <td>259000 F Cfa\\n\\n289000 F Cfa\\n\\nÉconomisez 10.4%</td>\n",
       "      <td>259000289000104</td>\n",
       "    </tr>\n",
       "    <tr>\n",
       "      <th>8</th>\n",
       "      <td>Iphone Xs</td>\n",
       "      <td>D'occasion</td>\n",
       "      <td>iPhone</td>\n",
       "      <td>Golf,\\nDakar</td>\n",
       "      <td>230000 F Cfa</td>\n",
       "      <td>230000</td>\n",
       "    </tr>\n",
       "    <tr>\n",
       "      <th>9</th>\n",
       "      <td>Samsung Galaxy A02 - 4G</td>\n",
       "      <td>Neuf</td>\n",
       "      <td>Samsung</td>\n",
       "      <td>Dalifort,\\nDakar</td>\n",
       "      <td>59000 F Cfa</td>\n",
       "      <td>59000</td>\n",
       "    </tr>\n",
       "    <tr>\n",
       "      <th>10</th>\n",
       "      <td>Téléphone invens h3 16go</td>\n",
       "      <td>Neuf</td>\n",
       "      <td>Invens</td>\n",
       "      <td>Gueule-Tapée,\\nDakar</td>\n",
       "      <td>29900 F Cfa</td>\n",
       "      <td>29900</td>\n",
       "    </tr>\n",
       "    <tr>\n",
       "      <th>11</th>\n",
       "      <td>Redmi note 11</td>\n",
       "      <td>Neuf</td>\n",
       "      <td>Xiaomi</td>\n",
       "      <td>Plateau,\\nDakar</td>\n",
       "      <td>140000 F Cfa</td>\n",
       "      <td>140000</td>\n",
       "    </tr>\n",
       "    <tr>\n",
       "      <th>12</th>\n",
       "      <td>Tecno spark 8 64go</td>\n",
       "      <td>Neuf</td>\n",
       "      <td>Tecno</td>\n",
       "      <td>Parcelles Assainies,\\nDakar</td>\n",
       "      <td>73000 F Cfa</td>\n",
       "      <td>73000</td>\n",
       "    </tr>\n",
       "    <tr>\n",
       "      <th>13</th>\n",
       "      <td>Invens max 8</td>\n",
       "      <td>Neuf</td>\n",
       "      <td>Invens</td>\n",
       "      <td>Parcelles Assainies,\\nDakar</td>\n",
       "      <td>40000 F Cfa</td>\n",
       "      <td>40000</td>\n",
       "    </tr>\n",
       "    <tr>\n",
       "      <th>14</th>\n",
       "      <td>Airpod lenovo authentique</td>\n",
       "      <td>Neuf</td>\n",
       "      <td>Lenovo</td>\n",
       "      <td>Parcelles Assainies,\\nDakar</td>\n",
       "      <td>20000 F Cfa</td>\n",
       "      <td>20000</td>\n",
       "    </tr>\n",
       "  </tbody>\n",
       "</table>\n",
       "</div>"
      ],
      "text/plain": [
       "                  Description Etat du téléphone   Marque  \\\n",
       "0               Redmi note 11              Neuf   Xiaomi   \n",
       "1     Coques iPhone & Samsung              Neuf   Autres   \n",
       "2        Vente iPhone 12 Mini            Venant   iPhone   \n",
       "3                    Redmi 9a              Neuf   Xiaomi   \n",
       "4           IPhone 13 Pro Max              Neuf   iPhone   \n",
       "5                   Iphone XR        D'occasion   iPhone   \n",
       "6           IPhone 11 Pro Max            Venant   iPhone   \n",
       "7                   Iphone 11            Venant   iPhone   \n",
       "8                   Iphone Xs        D'occasion   iPhone   \n",
       "9     Samsung Galaxy A02 - 4G              Neuf  Samsung   \n",
       "10   Téléphone invens h3 16go              Neuf   Invens   \n",
       "11              Redmi note 11              Neuf   Xiaomi   \n",
       "12         Tecno spark 8 64go              Neuf    Tecno   \n",
       "13               Invens max 8              Neuf   Invens   \n",
       "14  Airpod lenovo authentique              Neuf   Lenovo   \n",
       "\n",
       "                  Lieu de vente  \\\n",
       "0               Plateau,\\nDakar   \n",
       "1                Ouakam,\\nDakar   \n",
       "2               Plateau,\\nDakar   \n",
       "3               Plateau,\\nDakar   \n",
       "4              Colobane,\\nDakar   \n",
       "5          Gueule-Tapée,\\nDakar   \n",
       "6              Colobane,\\nDakar   \n",
       "7              Colobane,\\nDakar   \n",
       "8                  Golf,\\nDakar   \n",
       "9              Dalifort,\\nDakar   \n",
       "10         Gueule-Tapée,\\nDakar   \n",
       "11              Plateau,\\nDakar   \n",
       "12  Parcelles Assainies,\\nDakar   \n",
       "13  Parcelles Assainies,\\nDakar   \n",
       "14  Parcelles Assainies,\\nDakar   \n",
       "\n",
       "                                                Prix   Prix Numérique  \n",
       "0                                       140000 F Cfa           140000  \n",
       "1                                        12000 F Cfa            12000  \n",
       "2                                       330000 F Cfa           330000  \n",
       "3                                        65000 F Cfa            65000  \n",
       "4                                       790000 F Cfa           790000  \n",
       "5                                       199900 F Cfa           199900  \n",
       "6                                       410000 F Cfa           410000  \n",
       "7   259000 F Cfa\\n\\n289000 F Cfa\\n\\nÉconomisez 10.4%  259000289000104  \n",
       "8                                       230000 F Cfa           230000  \n",
       "9                                        59000 F Cfa            59000  \n",
       "10                                       29900 F Cfa            29900  \n",
       "11                                      140000 F Cfa           140000  \n",
       "12                                       73000 F Cfa            73000  \n",
       "13                                       40000 F Cfa            40000  \n",
       "14                                       20000 F Cfa            20000  "
      ]
     },
     "execution_count": 69,
     "metadata": {},
     "output_type": "execute_result"
    }
   ],
   "source": [
    "resultatGlobal.head(n=15)"
   ]
  },
  {
   "cell_type": "code",
   "execution_count": 71,
   "id": "e76dfcdb-83d5-4349-8311-ac047dead92d",
   "metadata": {},
   "outputs": [],
   "source": [
    "resultatGlobal[\"Prix Numérique\"] = pd.to_numeric(resultatGlobal[\"Prix Numérique\"])"
   ]
  },
  {
   "cell_type": "code",
   "execution_count": 72,
   "id": "3ee13637-934c-4ab0-9011-98e2bc6bed14",
   "metadata": {},
   "outputs": [
    {
     "data": {
      "text/plain": [
       "<AxesSubplot:>"
      ]
     },
     "execution_count": 72,
     "metadata": {},
     "output_type": "execute_result"
    },
    {
     "data": {
      "image/png": "[encoded data removed]",
      "text/plain": [
       "<Figure size 432x288 with 1 Axes>"
      ]
     },
     "metadata": {
      "needs_background": "light"
     },
     "output_type": "display_data"
    }
   ],
   "source": [
    "resultatGlobal[\"Prix Numérique\"].plot(kind=\"box\")"
   ]
  },
  {
   "cell_type": "code",
   "execution_count": 74,
   "id": "effe3c98-4726-4639-8dc0-efbf67aa8f50",
   "metadata": {},
   "outputs": [
    {
     "data": {
      "text/plain": [
       "<AxesSubplot:ylabel='Frequency'>"
      ]
     },
     "execution_count": 74,
     "metadata": {},
     "output_type": "execute_result"
    },
    {
     "data": {
      "image/png": "[encoded data removed]",
      "text/plain": [
       "<Figure size 1080x360 with 1 Axes>"
      ]
     },
     "metadata": {
      "needs_background": "light"
     },
     "output_type": "display_data"
    }
   ],
   "source": [
    "plt.figure(figsize=(15,5))\n",
    "resultatGlobal[\"Prix Numérique\"].plot(kind=\"hist\")"
   ]
  },
  {
   "cell_type": "markdown",
   "id": "b2bb7dfb-3c77-4e78-91c0-61bf7792cc3a",
   "metadata": {},
   "source": [
    "> Nous allons filtrer les valeurs valeurs les plus aberrantes"
   ]
  },
  {
   "cell_type": "code",
   "execution_count": 75,
   "id": "51cfbfe8-c6c5-408a-8b1f-a297b7050c7a",
   "metadata": {},
   "outputs": [
    {
     "data": {
      "text/plain": [
       "count    1.084000e+03\n",
       "mean     3.036235e+12\n",
       "std      2.346230e+13\n",
       "min      1.000000e+00\n",
       "25%      1.150000e+05\n",
       "50%      1.850000e+05\n",
       "75%      3.862500e+05\n",
       "max      3.800004e+14\n",
       "Name: Prix Numérique, dtype: float64"
      ]
     },
     "execution_count": 75,
     "metadata": {},
     "output_type": "execute_result"
    }
   ],
   "source": [
    "resultatGlobal[\"Prix Numérique\"].describe()"
   ]
  },
  {
   "cell_type": "code",
   "execution_count": 83,
   "id": "93cf32fe-6760-4992-8094-1f4d716929a7",
   "metadata": {},
   "outputs": [],
   "source": [
    "resultatGlobalCleaned1 = resultatGlobal.loc[resultatGlobal[\"Prix Numérique\"] < 1e7,:]"
   ]
  },
  {
   "cell_type": "code",
   "execution_count": 84,
   "id": "e3b34f87-ab34-4ff5-ad75-dfa0f5f224c1",
   "metadata": {},
   "outputs": [
    {
     "data": {
      "text/plain": [
       "count    1.040000e+03\n",
       "mean     2.708432e+05\n",
       "std      2.639343e+05\n",
       "min      1.000000e+00\n",
       "25%      1.100000e+05\n",
       "50%      1.800000e+05\n",
       "75%      3.424750e+05\n",
       "max      3.650000e+06\n",
       "Name: Prix Numérique, dtype: float64"
      ]
     },
     "execution_count": 84,
     "metadata": {},
     "output_type": "execute_result"
    }
   ],
   "source": [
    "resultatGlobalCleaned1[\"Prix Numérique\"].describe()"
   ]
  },
  {
   "cell_type": "code",
   "execution_count": 85,
   "id": "fcc30f98-0885-4b49-864e-338dee24769e",
   "metadata": {},
   "outputs": [
    {
     "data": {
      "text/plain": [
       "<AxesSubplot:>"
      ]
     },
     "execution_count": 85,
     "metadata": {},
     "output_type": "execute_result"
    },
    {
     "data": {
      "image/png": "[encoded data removed]",
      "text/plain": [
       "<Figure size 432x288 with 1 Axes>"
      ]
     },
     "metadata": {
      "needs_background": "light"
     },
     "output_type": "display_data"
    }
   ],
   "source": [
    "resultatGlobalCleaned1[\"Prix Numérique\"].plot(kind=\"box\")"
   ]
  },
  {
   "cell_type": "code",
   "execution_count": 86,
   "id": "760d26bb-2cd9-487f-8f65-44f260954221",
   "metadata": {},
   "outputs": [],
   "source": [
    "resultatGlobalCleaned2 = resultatGlobal.loc[resultatGlobal[\"Prix Numérique\"] < 1e6,:]"
   ]
  },
  {
   "cell_type": "code",
   "execution_count": 87,
   "id": "8f239800-8c30-4623-91af-35645b615d91",
   "metadata": {},
   "outputs": [
    {
     "data": {
      "text/plain": [
       "<AxesSubplot:>"
      ]
     },
     "execution_count": 87,
     "metadata": {},
     "output_type": "execute_result"
    },
    {
     "data": {
      "image/png": "[encoded data removed]",
      "text/plain": [
       "<Figure size 432x288 with 1 Axes>"
      ]
     },
     "metadata": {
      "needs_background": "light"
     },
     "output_type": "display_data"
    }
   ],
   "source": [
    "resultatGlobalCleaned2[\"Prix Numérique\"].plot(kind=\"box\")"
   ]
  },
  {
   "cell_type": "code",
   "execution_count": 88,
   "id": "6ad68063-cca7-4c96-9576-6329b94af06f",
   "metadata": {},
   "outputs": [
    {
     "data": {
      "text/plain": [
       "count      1032.000000\n",
       "mean     260248.936047\n",
       "std      224132.762526\n",
       "min           1.000000\n",
       "25%      110000.000000\n",
       "50%      179900.000000\n",
       "75%      336250.000000\n",
       "max      980000.000000\n",
       "Name: Prix Numérique, dtype: float64"
      ]
     },
     "execution_count": 88,
     "metadata": {},
     "output_type": "execute_result"
    }
   ],
   "source": [
    "resultatGlobalCleaned2[\"Prix Numérique\"].describe()"
   ]
  },
  {
   "cell_type": "code",
   "execution_count": 94,
   "id": "84228dc5-8a49-44ee-a80c-debaa8f80a07",
   "metadata": {},
   "outputs": [
    {
     "data": {
      "text/plain": [
       "<AxesSubplot:ylabel='Frequency'>"
      ]
     },
     "execution_count": 94,
     "metadata": {},
     "output_type": "execute_result"
    },
    {
     "data": {
      "image/png": "[encoded data removed]",
      "text/plain": [
       "<Figure size 1080x360 with 1 Axes>"
      ]
     },
     "metadata": {
      "needs_background": "light"
     },
     "output_type": "display_data"
    }
   ],
   "source": [
    "plt.figure(figsize=(15,5))\n",
    "resultatGlobalCleaned2[\"Prix Numérique\"].plot(kind=\"hist\", bins=100)"
   ]
  },
  {
   "cell_type": "code",
   "execution_count": 98,
   "id": "18ccad6e-0140-4656-95a4-1db825c461d7",
   "metadata": {},
   "outputs": [
    {
     "data": {
      "text/html": [
       "<div>\n",
       "<style scoped>\n",
       "    .dataframe tbody tr th:only-of-type {\n",
       "        vertical-align: middle;\n",
       "    }\n",
       "\n",
       "    .dataframe tbody tr th {\n",
       "        vertical-align: top;\n",
       "    }\n",
       "\n",
       "    .dataframe thead th {\n",
       "        text-align: right;\n",
       "    }\n",
       "</style>\n",
       "<table border=\"1\" class=\"dataframe\">\n",
       "  <thead>\n",
       "    <tr style=\"text-align: right;\">\n",
       "      <th></th>\n",
       "      <th>Description</th>\n",
       "      <th>Etat du téléphone</th>\n",
       "      <th>Marque</th>\n",
       "      <th>Lieu de vente</th>\n",
       "      <th>Prix</th>\n",
       "      <th>Prix Numérique</th>\n",
       "    </tr>\n",
       "  </thead>\n",
       "  <tbody>\n",
       "    <tr>\n",
       "      <th>1</th>\n",
       "      <td>Coques iPhone &amp; Samsung</td>\n",
       "      <td>Neuf</td>\n",
       "      <td>Autres</td>\n",
       "      <td>Ouakam,\\nDakar</td>\n",
       "      <td>12000 F Cfa</td>\n",
       "      <td>12000.0</td>\n",
       "    </tr>\n",
       "    <tr>\n",
       "      <th>14</th>\n",
       "      <td>Airpod lenovo authentique</td>\n",
       "      <td>Neuf</td>\n",
       "      <td>Lenovo</td>\n",
       "      <td>Parcelles Assainies,\\nDakar</td>\n",
       "      <td>20000 F Cfa</td>\n",
       "      <td>20000.0</td>\n",
       "    </tr>\n",
       "    <tr>\n",
       "      <th>101</th>\n",
       "      <td>Samsung serie A</td>\n",
       "      <td>Neuf</td>\n",
       "      <td>Samsung</td>\n",
       "      <td>Plateau,\\nDakar</td>\n",
       "      <td>1 F Cfa</td>\n",
       "      <td>1.0</td>\n",
       "    </tr>\n",
       "    <tr>\n",
       "      <th>150</th>\n",
       "      <td>Oppo find x2 neo occasion</td>\n",
       "      <td>D'occasion</td>\n",
       "      <td>Oppo</td>\n",
       "      <td>Keur Massar,\\nDakar</td>\n",
       "      <td>250 F Cfa</td>\n",
       "      <td>250.0</td>\n",
       "    </tr>\n",
       "    <tr>\n",
       "      <th>200</th>\n",
       "      <td>Verre trempé de protection ou coque téléphone</td>\n",
       "      <td>Neuf</td>\n",
       "      <td>iPhone</td>\n",
       "      <td>Hlm grand-yoff,\\nDakar</td>\n",
       "      <td>4000 F Cfa</td>\n",
       "      <td>4000.0</td>\n",
       "    </tr>\n",
       "    <tr>\n",
       "      <th>213</th>\n",
       "      <td>lot de telephones venant</td>\n",
       "      <td>Venant</td>\n",
       "      <td>Samsung</td>\n",
       "      <td>Hann maristes,\\nDakar</td>\n",
       "      <td>100 F Cfa</td>\n",
       "      <td>100.0</td>\n",
       "    </tr>\n",
       "    <tr>\n",
       "      <th>216</th>\n",
       "      <td>iPhone max pro 512Go</td>\n",
       "      <td>Neuf</td>\n",
       "      <td>iPhone</td>\n",
       "      <td>Nord foire,\\nDakar</td>\n",
       "      <td>750 F Cfa</td>\n",
       "      <td>750.0</td>\n",
       "    </tr>\n",
       "    <tr>\n",
       "      <th>255</th>\n",
       "      <td>IPhone XR</td>\n",
       "      <td>Venant</td>\n",
       "      <td>iPhone</td>\n",
       "      <td>Kaffrine,\\nKaffrine</td>\n",
       "      <td>170 F Cfa</td>\n",
       "      <td>170.0</td>\n",
       "    </tr>\n",
       "    <tr>\n",
       "      <th>322</th>\n",
       "      <td>Samsung S 10 très bon etat</td>\n",
       "      <td>D'occasion</td>\n",
       "      <td>Samsung</td>\n",
       "      <td>Mamelles,\\nDakar</td>\n",
       "      <td>180 F Cfa</td>\n",
       "      <td>180.0</td>\n",
       "    </tr>\n",
       "    <tr>\n",
       "      <th>349</th>\n",
       "      <td>Téléphone miniature BMW avec porte clé</td>\n",
       "      <td>Neuf</td>\n",
       "      <td>Autres</td>\n",
       "      <td>Hann Bel-Air,\\nDakar</td>\n",
       "      <td>19500 F Cfa</td>\n",
       "      <td>19500.0</td>\n",
       "    </tr>\n",
       "    <tr>\n",
       "      <th>444</th>\n",
       "      <td>iPhone 12 Pro max</td>\n",
       "      <td>Neuf</td>\n",
       "      <td>iPhone</td>\n",
       "      <td>Sacré-cœur,\\nDakar</td>\n",
       "      <td>800 F Cfa</td>\n",
       "      <td>800.0</td>\n",
       "    </tr>\n",
       "    <tr>\n",
       "      <th>448</th>\n",
       "      <td>iPhone XR 64 Giga presque neuf couleur Bleu ciel</td>\n",
       "      <td>Venant</td>\n",
       "      <td>iPhone</td>\n",
       "      <td>Hlm,\\nDakar</td>\n",
       "      <td>1 F Cfa</td>\n",
       "      <td>1.0</td>\n",
       "    </tr>\n",
       "    <tr>\n",
       "      <th>463</th>\n",
       "      <td>Samsung neuf</td>\n",
       "      <td>Neuf</td>\n",
       "      <td>Samsung</td>\n",
       "      <td>Almadies,\\nDakar</td>\n",
       "      <td>380 F Cfa</td>\n",
       "      <td>380.0</td>\n",
       "    </tr>\n",
       "    <tr>\n",
       "      <th>489</th>\n",
       "      <td>Appareil photo iPhone 7plus</td>\n",
       "      <td>D'occasion</td>\n",
       "      <td>iPhone</td>\n",
       "      <td>Parcelles Assainies,\\nDakar</td>\n",
       "      <td>8000 F Cfa</td>\n",
       "      <td>8000.0</td>\n",
       "    </tr>\n",
       "    <tr>\n",
       "      <th>611</th>\n",
       "      <td>Samsung Galaxy A10e</td>\n",
       "      <td>Venant</td>\n",
       "      <td>Samsung</td>\n",
       "      <td>Parcelles Assainies,\\nDakar</td>\n",
       "      <td>70 F Cfa</td>\n",
       "      <td>70.0</td>\n",
       "    </tr>\n",
       "    <tr>\n",
       "      <th>696</th>\n",
       "      <td>IPHONE 12 PRO MAX ICLOUD</td>\n",
       "      <td>D'occasion</td>\n",
       "      <td>iPhone</td>\n",
       "      <td>Hann maristes,\\nDakar</td>\n",
       "      <td>180 F Cfa</td>\n",
       "      <td>180.0</td>\n",
       "    </tr>\n",
       "    <tr>\n",
       "      <th>701</th>\n",
       "      <td>Samsung s21FE</td>\n",
       "      <td>Neuf</td>\n",
       "      <td>Samsung</td>\n",
       "      <td>Fann,\\nDakar</td>\n",
       "      <td>1 F Cfa</td>\n",
       "      <td>1.0</td>\n",
       "    </tr>\n",
       "    <tr>\n",
       "      <th>794</th>\n",
       "      <td>Des IPhones de bonne qualité</td>\n",
       "      <td>Neuf</td>\n",
       "      <td>iPhone</td>\n",
       "      <td>Rufisque,\\nDakar</td>\n",
       "      <td>2 F Cfa</td>\n",
       "      <td>2.0</td>\n",
       "    </tr>\n",
       "    <tr>\n",
       "      <th>800</th>\n",
       "      <td>Iphone</td>\n",
       "      <td>Neuf</td>\n",
       "      <td>iPhone</td>\n",
       "      <td>Rufisque,\\nDakar</td>\n",
       "      <td>1 F Cfa</td>\n",
       "      <td>1.0</td>\n",
       "    </tr>\n",
       "    <tr>\n",
       "      <th>805</th>\n",
       "      <td>iPhone 8 plus</td>\n",
       "      <td>Neuf</td>\n",
       "      <td>iPhone</td>\n",
       "      <td>Rufisque,\\nDakar</td>\n",
       "      <td>1 F Cfa</td>\n",
       "      <td>1.0</td>\n",
       "    </tr>\n",
       "    <tr>\n",
       "      <th>860</th>\n",
       "      <td>iPhone</td>\n",
       "      <td>Neuf</td>\n",
       "      <td>iPhone</td>\n",
       "      <td>Parcelles Assainies,\\nDakar</td>\n",
       "      <td>210 F Cfa</td>\n",
       "      <td>210.0</td>\n",
       "    </tr>\n",
       "    <tr>\n",
       "      <th>867</th>\n",
       "      <td>Des IPhones toutes séries</td>\n",
       "      <td>Neuf</td>\n",
       "      <td>iPhone</td>\n",
       "      <td>Rufisque,\\nDakar</td>\n",
       "      <td>1 F Cfa</td>\n",
       "      <td>1.0</td>\n",
       "    </tr>\n",
       "    <tr>\n",
       "      <th>929</th>\n",
       "      <td>iPhone 7plus</td>\n",
       "      <td>Neuf</td>\n",
       "      <td>None</td>\n",
       "      <td>Rufisque,\\nDakar</td>\n",
       "      <td>1 F Cfa</td>\n",
       "      <td>1.0</td>\n",
       "    </tr>\n",
       "    <tr>\n",
       "      <th>1044</th>\n",
       "      <td>Tabette Samsung S7 +</td>\n",
       "      <td>Neuf</td>\n",
       "      <td>Samsung</td>\n",
       "      <td>Plateau,\\nDakar</td>\n",
       "      <td>1 F Cfa</td>\n",
       "      <td>1.0</td>\n",
       "    </tr>\n",
       "    <tr>\n",
       "      <th>1066</th>\n",
       "      <td>Samsung z flip</td>\n",
       "      <td>Neuf</td>\n",
       "      <td>Samsung</td>\n",
       "      <td>Plateau,\\nDakar</td>\n",
       "      <td>1 F Cfa</td>\n",
       "      <td>1.0</td>\n",
       "    </tr>\n",
       "    <tr>\n",
       "      <th>1074</th>\n",
       "      <td>Iphone XR 64Go</td>\n",
       "      <td>Neuf</td>\n",
       "      <td>iPhone</td>\n",
       "      <td>Médina,\\nDakar</td>\n",
       "      <td>1 F Cfa</td>\n",
       "      <td>1.0</td>\n",
       "    </tr>\n",
       "  </tbody>\n",
       "</table>\n",
       "</div>"
      ],
      "text/plain": [
       "                                           Description Etat du téléphone  \\\n",
       "1                              Coques iPhone & Samsung              Neuf   \n",
       "14                           Airpod lenovo authentique              Neuf   \n",
       "101                                    Samsung serie A              Neuf   \n",
       "150                          Oppo find x2 neo occasion        D'occasion   \n",
       "200      Verre trempé de protection ou coque téléphone              Neuf   \n",
       "213                           lot de telephones venant            Venant   \n",
       "216                               iPhone max pro 512Go              Neuf   \n",
       "255                                          IPhone XR            Venant   \n",
       "322                         Samsung S 10 très bon etat        D'occasion   \n",
       "349             Téléphone miniature BMW avec porte clé              Neuf   \n",
       "444                                  iPhone 12 Pro max              Neuf   \n",
       "448   iPhone XR 64 Giga presque neuf couleur Bleu ciel            Venant   \n",
       "463                                       Samsung neuf              Neuf   \n",
       "489                        Appareil photo iPhone 7plus        D'occasion   \n",
       "611                                Samsung Galaxy A10e            Venant   \n",
       "696                           IPHONE 12 PRO MAX ICLOUD        D'occasion   \n",
       "701                                      Samsung s21FE              Neuf   \n",
       "794                       Des IPhones de bonne qualité              Neuf   \n",
       "800                                             Iphone              Neuf   \n",
       "805                                      iPhone 8 plus              Neuf   \n",
       "860                                             iPhone              Neuf   \n",
       "867                          Des IPhones toutes séries              Neuf   \n",
       "929                                       iPhone 7plus              Neuf   \n",
       "1044                              Tabette Samsung S7 +              Neuf   \n",
       "1066                                    Samsung z flip              Neuf   \n",
       "1074                                    Iphone XR 64Go              Neuf   \n",
       "\n",
       "       Marque                Lieu de vente         Prix  Prix Numérique  \n",
       "1      Autres               Ouakam,\\nDakar  12000 F Cfa         12000.0  \n",
       "14     Lenovo  Parcelles Assainies,\\nDakar  20000 F Cfa         20000.0  \n",
       "101   Samsung              Plateau,\\nDakar      1 F Cfa             1.0  \n",
       "150      Oppo          Keur Massar,\\nDakar    250 F Cfa           250.0  \n",
       "200    iPhone       Hlm grand-yoff,\\nDakar   4000 F Cfa          4000.0  \n",
       "213   Samsung        Hann maristes,\\nDakar    100 F Cfa           100.0  \n",
       "216    iPhone           Nord foire,\\nDakar    750 F Cfa           750.0  \n",
       "255    iPhone          Kaffrine,\\nKaffrine    170 F Cfa           170.0  \n",
       "322   Samsung             Mamelles,\\nDakar    180 F Cfa           180.0  \n",
       "349    Autres         Hann Bel-Air,\\nDakar  19500 F Cfa         19500.0  \n",
       "444    iPhone           Sacré-cœur,\\nDakar    800 F Cfa           800.0  \n",
       "448    iPhone                  Hlm,\\nDakar      1 F Cfa             1.0  \n",
       "463   Samsung             Almadies,\\nDakar    380 F Cfa           380.0  \n",
       "489    iPhone  Parcelles Assainies,\\nDakar   8000 F Cfa          8000.0  \n",
       "611   Samsung  Parcelles Assainies,\\nDakar     70 F Cfa            70.0  \n",
       "696    iPhone        Hann maristes,\\nDakar    180 F Cfa           180.0  \n",
       "701   Samsung                 Fann,\\nDakar      1 F Cfa             1.0  \n",
       "794    iPhone             Rufisque,\\nDakar      2 F Cfa             2.0  \n",
       "800    iPhone             Rufisque,\\nDakar      1 F Cfa             1.0  \n",
       "805    iPhone             Rufisque,\\nDakar      1 F Cfa             1.0  \n",
       "860    iPhone  Parcelles Assainies,\\nDakar    210 F Cfa           210.0  \n",
       "867    iPhone             Rufisque,\\nDakar      1 F Cfa             1.0  \n",
       "929      None             Rufisque,\\nDakar      1 F Cfa             1.0  \n",
       "1044  Samsung              Plateau,\\nDakar      1 F Cfa             1.0  \n",
       "1066  Samsung              Plateau,\\nDakar      1 F Cfa             1.0  \n",
       "1074   iPhone               Médina,\\nDakar      1 F Cfa             1.0  "
      ]
     },
     "execution_count": 98,
     "metadata": {},
     "output_type": "execute_result"
    }
   ],
   "source": [
    "resultatGlobalCleaned2.loc[resultatGlobalCleaned2[\"Prix Numérique\"] <= 20000,:]"
   ]
  },
  {
   "cell_type": "markdown",
   "id": "384f37d0-a58d-4d68-9fd0-5f7e12f19056",
   "metadata": {},
   "source": [
    "> Nous allons travailler sur la base des marques de téléphone ci-après:\n",
    "- iphone\n",
    "- samsung\n",
    "- tecno\n",
    "- etc."
   ]
  },
  {
   "cell_type": "code",
   "execution_count": 105,
   "id": "a141d39d-c5d6-4217-9f74-c3bc94a33964",
   "metadata": {},
   "outputs": [],
   "source": [
    "dataframesfiltres = (resultatGlobalCleaned2.loc[resultatGlobalCleaned2[\"Marque\"] == marque,:] for marque in ['Xiaomi', 'Crosscall', 'iPhone', 'Samsung', 'Tecno'])\n",
    "baseDeDonnees = pd.concat(dataframesfiltres, ignore_index=True)"
   ]
  },
  {
   "cell_type": "code",
   "execution_count": 106,
   "id": "4a1b4edf-cd6e-43f8-8177-56207f9fc25f",
   "metadata": {},
   "outputs": [
    {
     "data": {
      "text/html": [
       "<div>\n",
       "<style scoped>\n",
       "    .dataframe tbody tr th:only-of-type {\n",
       "        vertical-align: middle;\n",
       "    }\n",
       "\n",
       "    .dataframe tbody tr th {\n",
       "        vertical-align: top;\n",
       "    }\n",
       "\n",
       "    .dataframe thead th {\n",
       "        text-align: right;\n",
       "    }\n",
       "</style>\n",
       "<table border=\"1\" class=\"dataframe\">\n",
       "  <thead>\n",
       "    <tr style=\"text-align: right;\">\n",
       "      <th></th>\n",
       "      <th>Description</th>\n",
       "      <th>Etat du téléphone</th>\n",
       "      <th>Marque</th>\n",
       "      <th>Lieu de vente</th>\n",
       "      <th>Prix</th>\n",
       "      <th>Prix Numérique</th>\n",
       "    </tr>\n",
       "  </thead>\n",
       "  <tbody>\n",
       "    <tr>\n",
       "      <th>0</th>\n",
       "      <td>Redmi note 11</td>\n",
       "      <td>Neuf</td>\n",
       "      <td>Xiaomi</td>\n",
       "      <td>Plateau,\\nDakar</td>\n",
       "      <td>140000 F Cfa</td>\n",
       "      <td>140000.0</td>\n",
       "    </tr>\n",
       "    <tr>\n",
       "      <th>1</th>\n",
       "      <td>Redmi 9a</td>\n",
       "      <td>Neuf</td>\n",
       "      <td>Xiaomi</td>\n",
       "      <td>Plateau,\\nDakar</td>\n",
       "      <td>65000 F Cfa</td>\n",
       "      <td>65000.0</td>\n",
       "    </tr>\n",
       "    <tr>\n",
       "      <th>2</th>\n",
       "      <td>Redmi note 11</td>\n",
       "      <td>Neuf</td>\n",
       "      <td>Xiaomi</td>\n",
       "      <td>Plateau,\\nDakar</td>\n",
       "      <td>140000 F Cfa</td>\n",
       "      <td>140000.0</td>\n",
       "    </tr>\n",
       "    <tr>\n",
       "      <th>3</th>\n",
       "      <td>Redmi note 11</td>\n",
       "      <td>Neuf</td>\n",
       "      <td>Xiaomi</td>\n",
       "      <td>Plateau,\\nDakar</td>\n",
       "      <td>140000 F Cfa</td>\n",
       "      <td>140000.0</td>\n",
       "    </tr>\n",
       "    <tr>\n",
       "      <th>4</th>\n",
       "      <td>Redmi note 11</td>\n",
       "      <td>Neuf</td>\n",
       "      <td>Xiaomi</td>\n",
       "      <td>Plateau,\\nDakar</td>\n",
       "      <td>140000 F Cfa</td>\n",
       "      <td>140000.0</td>\n",
       "    </tr>\n",
       "    <tr>\n",
       "      <th>...</th>\n",
       "      <td>...</td>\n",
       "      <td>...</td>\n",
       "      <td>...</td>\n",
       "      <td>...</td>\n",
       "      <td>...</td>\n",
       "      <td>...</td>\n",
       "    </tr>\n",
       "    <tr>\n",
       "      <th>847</th>\n",
       "      <td>Tecno Spark 8 - 6.52\" - ROM 64Go</td>\n",
       "      <td>Neuf</td>\n",
       "      <td>Tecno</td>\n",
       "      <td>Dalifort,\\nDakar</td>\n",
       "      <td>69000 F Cfa</td>\n",
       "      <td>69000.0</td>\n",
       "    </tr>\n",
       "    <tr>\n",
       "      <th>848</th>\n",
       "      <td>Tecno Spark 8 original 64gigas</td>\n",
       "      <td>Neuf</td>\n",
       "      <td>Tecno</td>\n",
       "      <td>Plateau,\\n Dakar</td>\n",
       "      <td>68900 F Cfa</td>\n",
       "      <td>68900.0</td>\n",
       "    </tr>\n",
       "    <tr>\n",
       "      <th>849</th>\n",
       "      <td>Tecno POP 5 Original 32gigas</td>\n",
       "      <td>Neuf</td>\n",
       "      <td>Tecno</td>\n",
       "      <td>Plateau,\\nDakar</td>\n",
       "      <td>48900 F Cfa</td>\n",
       "      <td>48900.0</td>\n",
       "    </tr>\n",
       "    <tr>\n",
       "      <th>850</th>\n",
       "      <td>Tecno Pop 5 Pro - 4G</td>\n",
       "      <td>Neuf</td>\n",
       "      <td>Tecno</td>\n",
       "      <td>Dalifort,\\nDakar</td>\n",
       "      <td>59000 F Cfa</td>\n",
       "      <td>59000.0</td>\n",
       "    </tr>\n",
       "    <tr>\n",
       "      <th>851</th>\n",
       "      <td>Tecno spark 8</td>\n",
       "      <td>Neuf</td>\n",
       "      <td>Tecno</td>\n",
       "      <td>Gueule-Tapée,\\nDakar</td>\n",
       "      <td>75000 F Cfa</td>\n",
       "      <td>75000.0</td>\n",
       "    </tr>\n",
       "  </tbody>\n",
       "</table>\n",
       "<p>852 rows × 6 columns</p>\n",
       "</div>"
      ],
      "text/plain": [
       "                          Description Etat du téléphone  Marque  \\\n",
       "0                       Redmi note 11              Neuf  Xiaomi   \n",
       "1                            Redmi 9a              Neuf  Xiaomi   \n",
       "2                       Redmi note 11              Neuf  Xiaomi   \n",
       "3                       Redmi note 11              Neuf  Xiaomi   \n",
       "4                       Redmi note 11              Neuf  Xiaomi   \n",
       "..                                ...               ...     ...   \n",
       "847  Tecno Spark 8 - 6.52\" - ROM 64Go              Neuf   Tecno   \n",
       "848    Tecno Spark 8 original 64gigas              Neuf   Tecno   \n",
       "849      Tecno POP 5 Original 32gigas              Neuf   Tecno   \n",
       "850              Tecno Pop 5 Pro - 4G              Neuf   Tecno   \n",
       "851                     Tecno spark 8              Neuf   Tecno   \n",
       "\n",
       "            Lieu de vente          Prix  Prix Numérique  \n",
       "0         Plateau,\\nDakar  140000 F Cfa        140000.0  \n",
       "1         Plateau,\\nDakar   65000 F Cfa         65000.0  \n",
       "2         Plateau,\\nDakar  140000 F Cfa        140000.0  \n",
       "3         Plateau,\\nDakar  140000 F Cfa        140000.0  \n",
       "4         Plateau,\\nDakar  140000 F Cfa        140000.0  \n",
       "..                    ...           ...             ...  \n",
       "847      Dalifort,\\nDakar   69000 F Cfa         69000.0  \n",
       "848      Plateau,\\n Dakar   68900 F Cfa         68900.0  \n",
       "849       Plateau,\\nDakar   48900 F Cfa         48900.0  \n",
       "850      Dalifort,\\nDakar   59000 F Cfa         59000.0  \n",
       "851  Gueule-Tapée,\\nDakar   75000 F Cfa         75000.0  \n",
       "\n",
       "[852 rows x 6 columns]"
      ]
     },
     "execution_count": 106,
     "metadata": {},
     "output_type": "execute_result"
    }
   ],
   "source": [
    "baseDeDonnees"
   ]
  },
  {
   "cell_type": "code",
   "execution_count": 107,
   "id": "76f8d5a1-1286-488c-91f3-87f3f2bbf00b",
   "metadata": {},
   "outputs": [
    {
     "data": {
      "text/plain": [
       "iPhone       437\n",
       "Samsung      222\n",
       "Xiaomi       139\n",
       "Tecno         51\n",
       "Crosscall      3\n",
       "Name: Marque, dtype: int64"
      ]
     },
     "execution_count": 107,
     "metadata": {},
     "output_type": "execute_result"
    }
   ],
   "source": [
    "baseDeDonnees[\"Marque\"].value_counts()"
   ]
  },
  {
   "cell_type": "code",
   "execution_count": 70,
   "id": "98831859-f73a-4ea8-96da-9df2bc9670bb",
   "metadata": {},
   "outputs": [
    {
     "data": {
      "text/plain": [
       "iPhone       475\n",
       "Samsung      233\n",
       "Huawei       150\n",
       "Xiaomi        76\n",
       "Crosscall     66\n",
       "Tecno         51\n",
       "Google        27\n",
       "Autres        21\n",
       "Sony          19\n",
       "Oppo          15\n",
       "Infinix       10\n",
       "LG            10\n",
       "OnePlus        8\n",
       "Invens         8\n",
       "iPad           5\n",
       "Microsoft      2\n",
       "Lenovo         2\n",
       "Nokia          2\n",
       "TCL            1\n",
       "Ice-Phone      1\n",
       "HP             1\n",
       "Amazon         1\n",
       "Motorola       1\n",
       "x-tigi         1\n",
       "Acer           1\n",
       "HTC            1\n",
       "Name: Marque, dtype: int64"
      ]
     },
     "execution_count": 70,
     "metadata": {},
     "output_type": "execute_result"
    }
   ],
   "source": [
    "resultatGlobal[\"Marque\"].value_counts()"
   ]
  },
  {
   "cell_type": "code",
   "execution_count": 74,
   "id": "2186d1cd-d72b-4e3f-bb34-56e91de62231",
   "metadata": {},
   "outputs": [
    {
     "data": {
      "text/plain": [
       "<AxesSubplot:>"
      ]
     },
     "execution_count": 74,
     "metadata": {},
     "output_type": "execute_result"
    },
    {
     "data": {
      "image/png": "[encoded data removed]",
      "text/plain": [
       "<Figure size 1080x360 with 1 Axes>"
      ]
     },
     "metadata": {
      "needs_background": "light"
     },
     "output_type": "display_data"
    }
   ],
   "source": [
    "plt.figure(figsize=(15, 5))\n",
    "resultatGlobal[\"Marque\"].value_counts(normalize=True).plot(kind=\"bar\")"
   ]
  },
  {
   "cell_type": "code",
   "execution_count": 101,
   "id": "2fc7f70b-13db-4861-987e-98044cb42df2",
   "metadata": {},
   "outputs": [
    {
     "data": {
      "text/plain": [
       "array(['Xiaomi', 'Autres', 'iPhone', 'Samsung', 'Invens', 'Tecno',\n",
       "       'Lenovo', 'Google', None, 'Viwa', 'Huawei', 'Oppo', 'Sony',\n",
       "       'Nokia', 'Crosscall', 'Siccoo', 'Infinix', 'Alcatel', 'Microsoft',\n",
       "       'TCL', 'OnePlus', 'LG', 'Ice-Phone', 'iPad', 'HP', 'Amazon',\n",
       "       'Motorola', 'x-tigi', 'Acer', 'HTC'], dtype=object)"
      ]
     },
     "execution_count": 101,
     "metadata": {},
     "output_type": "execute_result"
    }
   ],
   "source": [
    "resultatGlobal[\"Marque\"].unique()"
   ]
  },
  {
   "cell_type": "code",
   "execution_count": 84,
   "id": "c96a7f5b-fd93-43b2-b042-1b846051495b",
   "metadata": {},
   "outputs": [
    {
     "data": {
      "text/plain": [
       "<AxesSubplot:>"
      ]
     },
     "execution_count": 84,
     "metadata": {},
     "output_type": "execute_result"
    },
    {
     "data": {
      "image/png": "[encoded data removed]",
      "text/plain": [
       "<Figure size 1440x360 with 1 Axes>"
      ]
     },
     "metadata": {
      "needs_background": "light"
     },
     "output_type": "display_data"
    }
   ],
   "source": [
    "plt.figure(figsize=(20, 5))\n",
    "lieuDeVentes = resultatGlobal[\"Lieu de vente\"].value_counts(normalize=True)\n",
    "lieuDeVentes[lieuDeVentes >= 0.05].plot(kind=\"bar\")"
   ]
  },
  {
   "cell_type": "code",
   "execution_count": 77,
   "id": "111a6c93-dc37-4cec-8ab1-8608d41f2ed0",
   "metadata": {},
   "outputs": [
    {
     "data": {
      "text/plain": [
       "array(['Colobane,\\nDakar', 'Gueule-Tapée,\\nDakar', 'Plateau,\\nDakar',\n",
       "       'Hann maristes,\\nDakar', 'Sicap baobab,\\nDakar',\n",
       "       'Dalifort,\\nDakar', 'Yoff,\\nDakar', 'Médina,\\nDakar',\n",
       "       'Fann,\\nDakar', 'Castor,\\nDakar', 'Dieuppeul,\\nDakar',\n",
       "       'Almadies 2,\\nDakar', 'Hlm,\\nDakar', 'Point-e,\\nDakar',\n",
       "       'Grand-Yoff,\\nDakar', 'Sicap Liberté,\\nDakar',\n",
       "       'Keur Massar,\\nDakar', 'Parcelles Assainies,\\nDakar',\n",
       "       'Parcelles Assainies,\\n Dakar', 'Liberte 6 extension,\\nDakar',\n",
       "       'Fenêtre mermoz,\\nDakar', 'Rufisque,\\nDakar',\n",
       "       'Hann Bel-Air,\\nDakar', 'Biscuiterie,\\nDakar', 'Kaolack,\\nKaolack',\n",
       "       'Mermoz,\\nDakar', 'Almadies,\\nDakar', 'Sicap foire,\\nDakar',\n",
       "       'Derkle,\\nDakar', 'Bel air,\\nDakar', 'Hlm grand-yoff,\\nDakar',\n",
       "       'Sacré-cœur,\\nDakar', 'Gibraltar,\\nDakar', 'Plateau,\\n Dakar',\n",
       "       'Liberte 2,\\nDakar', 'Dalifort,\\n Dakar', 'Nord foire,\\nDakar',\n",
       "       'Ouest foire,\\nDakar', 'Cité biagui,\\nDakar', 'Guediawaye,\\nDakar',\n",
       "       'Kaffrine,\\nKaffrine', 'Hann marinas,\\nDakar',\n",
       "       'Sicap Sacré-cœur,\\nDakar', 'Ouakam,\\nDakar', 'Mbao,\\nDakar',\n",
       "       'Liberte 6,\\nDakar', 'Cité avion,\\nDakar',\n",
       "       'Hann maristes,\\n Dakar', 'Amitié,\\nDakar', 'Amitié,\\n Dakar',\n",
       "       'Liberte 5,\\nDakar', 'Dakar', 'Mamelles,\\nDakar', 'Thiès,\\nThiès',\n",
       "       'Popenguine,\\nThiès', 'Sud foire,\\nDakar', 'Grand-Dakar,\\nDakar',\n",
       "       'Fatick,\\nFatick', 'Patte d‘oie,\\nDakar', 'Pikine,\\nDakar',\n",
       "       'Yeumbeul,\\nDakar', 'Travail à distance,\\nTélétravail',\n",
       "       'Diamaguene,\\nDakar', 'Liberte 1,\\nDakar', 'Keur Massar,\\n Dakar',\n",
       "       'Golf,\\nDakar', 'Cambérène,\\nDakar', 'Cité keur gorgui,\\nDakar',\n",
       "       'Comico,\\nDakar', 'Louga,\\nLouga', 'Médina,\\n Dakar',\n",
       "       'Malika,\\nDakar', 'Saly,\\nThiès', 'Zac Mbao,\\nDakar',\n",
       "       'VDN,\\nDakar', 'Liberte 3,\\nDakar', 'Zac Mbao,\\n Dakar',\n",
       "       'Zone de captage,\\nDakar', 'Ngor,\\nDakar', 'Fann,\\n Dakar'],\n",
       "      dtype=object)"
      ]
     },
     "execution_count": 77,
     "metadata": {},
     "output_type": "execute_result"
    }
   ],
   "source": [
    "resultatGlobal[\"Lieu de vente\"].unique()"
   ]
  },
  {
   "cell_type": "markdown",
   "id": "163c3cd6-be1e-4315-86ce-6e56f7ef092f",
   "metadata": {},
   "source": [
    "> Au regard des statistiques relatives à la distribution des téléphones suivant leur marque et leurs lieux de vente nous allons accorder une importance particulières :\n",
    ">- marque : Iphone, Samsung, Huawei, Tecno, Xiamo\n",
    ">- lieu de vente : Dakar Plateau, Colobane, Gueule Tapé et Parcelle-Assainies"
   ]
  },
  {
   "cell_type": "markdown",
   "id": "0931f124-f6f0-489f-8da4-c4e92dd29b8a",
   "metadata": {},
   "source": [
    "### Détermination du prix moyen d'un iphone"
   ]
  },
  {
   "cell_type": "code",
   "execution_count": null,
   "id": "4937f486-87f9-4cf5-8751-7151028e7f92",
   "metadata": {},
   "outputs": [],
   "source": []
  }
 ],
 "metadata": {
  "kernelspec": {
   "display_name": "Python 3 (ipykernel)",
   "language": "python",
   "name": "python3"
  },
  "language_info": {
   "codemirror_mode": {
    "name": "ipython",
    "version": 3
   },
   "file_extension": ".py",
   "mimetype": "text/x-python",
   "name": "python",
   "nbconvert_exporter": "python",
   "pygments_lexer": "ipython3",
   "version": "3.9.7"
  }
 },
 "nbformat": 4,
 "nbformat_minor": 5
}
